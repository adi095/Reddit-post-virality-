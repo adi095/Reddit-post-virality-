{
 "cells": [
  {
   "cell_type": "code",
   "execution_count": 1,
   "id": "addb316c-ebcd-4352-94e5-773a86416fb2",
   "metadata": {},
   "outputs": [],
   "source": [
    "import os\n",
    "import re\n",
    "from glob import glob\n",
    "import pandas as pd\n",
    "import numpy as np\n",
    "import matplotlib.pyplot as plt\n",
    "from sklearn.preprocessing import LabelEncoder, StandardScaler\n",
    "from sklearn.feature_extraction.text import TfidfVectorizer\n",
    "from sklearn.model_selection import train_test_split\n",
    "from sklearn.linear_model import LogisticRegression\n",
    "from sklearn.metrics import classification_report, accuracy_score\n",
    "from xgboost import XGBClassifier\n",
    "from scipy.sparse import hstack\n",
    "import string\n",
    "import nltk\n",
    "from nltk.corpus import stopwords\n",
    "from nltk.stem import WordNetLemmatizer"
   ]
  },
  {
   "cell_type": "code",
   "execution_count": 2,
   "id": "22306ddd-0675-42a5-8635-50fabe183d48",
   "metadata": {},
   "outputs": [
    {
     "name": "stderr",
     "output_type": "stream",
     "text": [
      "[nltk_data] Downloading package stopwords to\n",
      "[nltk_data]     /Users/saileshrajaputra/nltk_data...\n",
      "[nltk_data]   Package stopwords is already up-to-date!\n",
      "[nltk_data] Downloading package wordnet to\n",
      "[nltk_data]     /Users/saileshrajaputra/nltk_data...\n",
      "[nltk_data]   Package wordnet is already up-to-date!\n"
     ]
    },
    {
     "data": {
      "text/plain": [
       "True"
      ]
     },
     "execution_count": 2,
     "metadata": {},
     "output_type": "execute_result"
    }
   ],
   "source": [
    "nltk.download(\"stopwords\")\n",
    "nltk.download(\"wordnet\")"
   ]
  },
  {
   "cell_type": "code",
   "execution_count": 3,
   "id": "59215039-06f3-4e77-ac81-5bd4c8814917",
   "metadata": {},
   "outputs": [],
   "source": [
    "dataset_path = \"/Users/saileshrajaputra/Downloads/personal/bri/syr/smdm/project/dataset/SMDM_Project_DataSet_V3.csv\""
   ]
  },
  {
   "cell_type": "code",
   "execution_count": 4,
   "id": "dc611f54-d441-4284-9a11-9fa888434f38",
   "metadata": {},
   "outputs": [],
   "source": [
    "validation_dataset_path = \"/Users/saileshrajaputra/Downloads/personal/bri/syr/smdm/project/dataset/SMDM_Project_Validation_Set_V1.csv\""
   ]
  },
  {
   "cell_type": "code",
   "execution_count": 5,
   "id": "b21753cd-fa0d-4a86-bdd9-9b3a2a9720a1",
   "metadata": {},
   "outputs": [
    {
     "name": "stderr",
     "output_type": "stream",
     "text": [
      "/var/folders/w1/mw0q783s1b5bj1lkrz62mvwr0000gp/T/ipykernel_9937/2793407076.py:1: DtypeWarning: Columns (41,82,97) have mixed types. Specify dtype option on import or set low_memory=False.\n",
      "  df = pd.read_csv(dataset_path)\n"
     ]
    }
   ],
   "source": [
    "df = pd.read_csv(dataset_path)"
   ]
  },
  {
   "cell_type": "code",
   "execution_count": 6,
   "id": "387b092e-bb74-4216-b632-335627f5e109",
   "metadata": {},
   "outputs": [],
   "source": [
    "validation_df = pd.read_csv(validation_dataset_path)"
   ]
  },
  {
   "cell_type": "code",
   "execution_count": 7,
   "id": "80895dd2-50b9-4682-9795-04564c0922a2",
   "metadata": {},
   "outputs": [
    {
     "data": {
      "text/html": [
       "<div>\n",
       "<style scoped>\n",
       "    .dataframe tbody tr th:only-of-type {\n",
       "        vertical-align: middle;\n",
       "    }\n",
       "\n",
       "    .dataframe tbody tr th {\n",
       "        vertical-align: top;\n",
       "    }\n",
       "\n",
       "    .dataframe thead th {\n",
       "        text-align: right;\n",
       "    }\n",
       "</style>\n",
       "<table border=\"1\" class=\"dataframe\">\n",
       "  <thead>\n",
       "    <tr style=\"text-align: right;\">\n",
       "      <th></th>\n",
       "      <th>approved_at_utc</th>\n",
       "      <th>subreddit</th>\n",
       "      <th>selftext</th>\n",
       "      <th>author_fullname</th>\n",
       "      <th>saved</th>\n",
       "      <th>mod_reason_title</th>\n",
       "      <th>gilded</th>\n",
       "      <th>clicked</th>\n",
       "      <th>title</th>\n",
       "      <th>link_flair_richtext</th>\n",
       "      <th>...</th>\n",
       "      <th>link_flair_template_id</th>\n",
       "      <th>is_gallery</th>\n",
       "      <th>media_metadata</th>\n",
       "      <th>gallery_data</th>\n",
       "      <th>post_url_from_permalink</th>\n",
       "      <th>updated_ups</th>\n",
       "      <th>updated_at</th>\n",
       "      <th>crosspost_parent_list</th>\n",
       "      <th>crosspost_parent</th>\n",
       "      <th>author_cakeday</th>\n",
       "    </tr>\n",
       "  </thead>\n",
       "  <tbody>\n",
       "    <tr>\n",
       "      <th>0</th>\n",
       "      <td>NaN</td>\n",
       "      <td>pics</td>\n",
       "      <td>NaN</td>\n",
       "      <td>t2_nvs8bgmct</td>\n",
       "      <td>False</td>\n",
       "      <td>NaN</td>\n",
       "      <td>0</td>\n",
       "      <td>False</td>\n",
       "      <td>48</td>\n",
       "      <td>[]</td>\n",
       "      <td>...</td>\n",
       "      <td>NaN</td>\n",
       "      <td>NaN</td>\n",
       "      <td>NaN</td>\n",
       "      <td>NaN</td>\n",
       "      <td>https://reddit.com/r/pics/comments/1jf4ouq/48/</td>\n",
       "      <td>162.000000</td>\n",
       "      <td>2025-03-31 14:54:16</td>\n",
       "      <td>NaN</td>\n",
       "      <td>NaN</td>\n",
       "      <td>NaN</td>\n",
       "    </tr>\n",
       "    <tr>\n",
       "      <th>1</th>\n",
       "      <td>NaN</td>\n",
       "      <td>AskReddit</td>\n",
       "      <td>NaN</td>\n",
       "      <td>t2_a4d033l7</td>\n",
       "      <td>False</td>\n",
       "      <td>NaN</td>\n",
       "      <td>0</td>\n",
       "      <td>False</td>\n",
       "      <td>Ex Karen’s, what made you realize you were a K...</td>\n",
       "      <td>[]</td>\n",
       "      <td>...</td>\n",
       "      <td>NaN</td>\n",
       "      <td>NaN</td>\n",
       "      <td>NaN</td>\n",
       "      <td>NaN</td>\n",
       "      <td>https://reddit.com/r/AskReddit/comments/1jf4op...</td>\n",
       "      <td>0.000000</td>\n",
       "      <td>2025-03-31 14:54:16</td>\n",
       "      <td>NaN</td>\n",
       "      <td>NaN</td>\n",
       "      <td>NaN</td>\n",
       "    </tr>\n",
       "    <tr>\n",
       "      <th>2</th>\n",
       "      <td>NaN</td>\n",
       "      <td>AskReddit</td>\n",
       "      <td>NaN</td>\n",
       "      <td>t2_22a7spon</td>\n",
       "      <td>False</td>\n",
       "      <td>NaN</td>\n",
       "      <td>0</td>\n",
       "      <td>False</td>\n",
       "      <td>What’s the worst name you’ve ever heard someon...</td>\n",
       "      <td>[]</td>\n",
       "      <td>...</td>\n",
       "      <td>NaN</td>\n",
       "      <td>NaN</td>\n",
       "      <td>NaN</td>\n",
       "      <td>NaN</td>\n",
       "      <td>https://reddit.com/r/AskReddit/comments/1jf4of...</td>\n",
       "      <td>81.000000</td>\n",
       "      <td>2025-03-31 14:54:16</td>\n",
       "      <td>NaN</td>\n",
       "      <td>NaN</td>\n",
       "      <td>NaN</td>\n",
       "    </tr>\n",
       "    <tr>\n",
       "      <th>3</th>\n",
       "      <td>NaN</td>\n",
       "      <td>AskReddit</td>\n",
       "      <td>NaN</td>\n",
       "      <td>t2_dbitrqbp</td>\n",
       "      <td>False</td>\n",
       "      <td>NaN</td>\n",
       "      <td>0</td>\n",
       "      <td>False</td>\n",
       "      <td>What was the reason that made you decide to re...</td>\n",
       "      <td>[]</td>\n",
       "      <td>...</td>\n",
       "      <td>NaN</td>\n",
       "      <td>NaN</td>\n",
       "      <td>NaN</td>\n",
       "      <td>NaN</td>\n",
       "      <td>https://reddit.com/r/AskReddit/comments/1jf4o0...</td>\n",
       "      <td>792.092554</td>\n",
       "      <td>2025-03-31 14:54:16</td>\n",
       "      <td>NaN</td>\n",
       "      <td>NaN</td>\n",
       "      <td>NaN</td>\n",
       "    </tr>\n",
       "    <tr>\n",
       "      <th>4</th>\n",
       "      <td>NaN</td>\n",
       "      <td>AskReddit</td>\n",
       "      <td>NaN</td>\n",
       "      <td>t2_6lrmnwdz</td>\n",
       "      <td>False</td>\n",
       "      <td>NaN</td>\n",
       "      <td>0</td>\n",
       "      <td>False</td>\n",
       "      <td>What is your city known for ?</td>\n",
       "      <td>[]</td>\n",
       "      <td>...</td>\n",
       "      <td>NaN</td>\n",
       "      <td>NaN</td>\n",
       "      <td>NaN</td>\n",
       "      <td>NaN</td>\n",
       "      <td>https://reddit.com/r/AskReddit/comments/1jf4no...</td>\n",
       "      <td>9855.000000</td>\n",
       "      <td>2025-03-31 14:54:16</td>\n",
       "      <td>NaN</td>\n",
       "      <td>NaN</td>\n",
       "      <td>NaN</td>\n",
       "    </tr>\n",
       "  </tbody>\n",
       "</table>\n",
       "<p>5 rows × 117 columns</p>\n",
       "</div>"
      ],
      "text/plain": [
       "   approved_at_utc  subreddit selftext author_fullname  saved  \\\n",
       "0              NaN       pics      NaN    t2_nvs8bgmct  False   \n",
       "1              NaN  AskReddit      NaN     t2_a4d033l7  False   \n",
       "2              NaN  AskReddit      NaN     t2_22a7spon  False   \n",
       "3              NaN  AskReddit      NaN     t2_dbitrqbp  False   \n",
       "4              NaN  AskReddit      NaN     t2_6lrmnwdz  False   \n",
       "\n",
       "   mod_reason_title  gilded  clicked  \\\n",
       "0               NaN       0    False   \n",
       "1               NaN       0    False   \n",
       "2               NaN       0    False   \n",
       "3               NaN       0    False   \n",
       "4               NaN       0    False   \n",
       "\n",
       "                                               title link_flair_richtext  ...  \\\n",
       "0                                                 48                  []  ...   \n",
       "1  Ex Karen’s, what made you realize you were a K...                  []  ...   \n",
       "2  What’s the worst name you’ve ever heard someon...                  []  ...   \n",
       "3  What was the reason that made you decide to re...                  []  ...   \n",
       "4                      What is your city known for ?                  []  ...   \n",
       "\n",
       "  link_flair_template_id  is_gallery  media_metadata gallery_data  \\\n",
       "0                    NaN         NaN             NaN          NaN   \n",
       "1                    NaN         NaN             NaN          NaN   \n",
       "2                    NaN         NaN             NaN          NaN   \n",
       "3                    NaN         NaN             NaN          NaN   \n",
       "4                    NaN         NaN             NaN          NaN   \n",
       "\n",
       "                             post_url_from_permalink  updated_ups  \\\n",
       "0     https://reddit.com/r/pics/comments/1jf4ouq/48/   162.000000   \n",
       "1  https://reddit.com/r/AskReddit/comments/1jf4op...     0.000000   \n",
       "2  https://reddit.com/r/AskReddit/comments/1jf4of...    81.000000   \n",
       "3  https://reddit.com/r/AskReddit/comments/1jf4o0...   792.092554   \n",
       "4  https://reddit.com/r/AskReddit/comments/1jf4no...  9855.000000   \n",
       "\n",
       "            updated_at  crosspost_parent_list crosspost_parent  author_cakeday  \n",
       "0  2025-03-31 14:54:16                    NaN              NaN             NaN  \n",
       "1  2025-03-31 14:54:16                    NaN              NaN             NaN  \n",
       "2  2025-03-31 14:54:16                    NaN              NaN             NaN  \n",
       "3  2025-03-31 14:54:16                    NaN              NaN             NaN  \n",
       "4  2025-03-31 14:54:16                    NaN              NaN             NaN  \n",
       "\n",
       "[5 rows x 117 columns]"
      ]
     },
     "execution_count": 7,
     "metadata": {},
     "output_type": "execute_result"
    }
   ],
   "source": [
    "df.head()"
   ]
  },
  {
   "cell_type": "code",
   "execution_count": 8,
   "id": "043dfc65-1a53-469a-9c22-ffb80ea3779a",
   "metadata": {},
   "outputs": [
    {
     "data": {
      "text/html": [
       "<div>\n",
       "<style scoped>\n",
       "    .dataframe tbody tr th:only-of-type {\n",
       "        vertical-align: middle;\n",
       "    }\n",
       "\n",
       "    .dataframe tbody tr th {\n",
       "        vertical-align: top;\n",
       "    }\n",
       "\n",
       "    .dataframe thead th {\n",
       "        text-align: right;\n",
       "    }\n",
       "</style>\n",
       "<table border=\"1\" class=\"dataframe\">\n",
       "  <thead>\n",
       "    <tr style=\"text-align: right;\">\n",
       "      <th></th>\n",
       "      <th>approved_at_utc</th>\n",
       "      <th>subreddit</th>\n",
       "      <th>selftext</th>\n",
       "      <th>author_fullname</th>\n",
       "      <th>saved</th>\n",
       "      <th>mod_reason_title</th>\n",
       "      <th>gilded</th>\n",
       "      <th>clicked</th>\n",
       "      <th>title</th>\n",
       "      <th>link_flair_richtext</th>\n",
       "      <th>...</th>\n",
       "      <th>url_overridden_by_dest</th>\n",
       "      <th>preview</th>\n",
       "      <th>link_flair_template_id</th>\n",
       "      <th>is_gallery</th>\n",
       "      <th>media_metadata</th>\n",
       "      <th>gallery_data</th>\n",
       "      <th>updated_ups</th>\n",
       "      <th>updated_at</th>\n",
       "      <th>crosspost_parent_list</th>\n",
       "      <th>crosspost_parent</th>\n",
       "    </tr>\n",
       "  </thead>\n",
       "  <tbody>\n",
       "    <tr>\n",
       "      <th>0</th>\n",
       "      <td>NaN</td>\n",
       "      <td>AskReddit</td>\n",
       "      <td>NaN</td>\n",
       "      <td>t2_1mu4qhqhz7</td>\n",
       "      <td>False</td>\n",
       "      <td>NaN</td>\n",
       "      <td>0</td>\n",
       "      <td>False</td>\n",
       "      <td>What's the first game you spent hundreds of ho...</td>\n",
       "      <td>[]</td>\n",
       "      <td>...</td>\n",
       "      <td>NaN</td>\n",
       "      <td>NaN</td>\n",
       "      <td>NaN</td>\n",
       "      <td>NaN</td>\n",
       "      <td>NaN</td>\n",
       "      <td>NaN</td>\n",
       "      <td>3575</td>\n",
       "      <td>2025-04-14 23:59:59</td>\n",
       "      <td>NaN</td>\n",
       "      <td>NaN</td>\n",
       "    </tr>\n",
       "    <tr>\n",
       "      <th>1</th>\n",
       "      <td>NaN</td>\n",
       "      <td>law</td>\n",
       "      <td>NaN</td>\n",
       "      <td>t2_10wijw23wg</td>\n",
       "      <td>False</td>\n",
       "      <td>NaN</td>\n",
       "      <td>0</td>\n",
       "      <td>False</td>\n",
       "      <td>BREAKING: Judge Boasberg finds Trump officials...</td>\n",
       "      <td>[]</td>\n",
       "      <td>...</td>\n",
       "      <td>https://www.irishstar.com/news/us-news/breakin...</td>\n",
       "      <td>{'images': [{'source': {'url': 'https://extern...</td>\n",
       "      <td>92ea8972-dca0-11ee-964c-bea59678bde5</td>\n",
       "      <td>NaN</td>\n",
       "      <td>NaN</td>\n",
       "      <td>NaN</td>\n",
       "      <td>15897</td>\n",
       "      <td>2025-04-14 23:59:59</td>\n",
       "      <td>NaN</td>\n",
       "      <td>NaN</td>\n",
       "    </tr>\n",
       "    <tr>\n",
       "      <th>2</th>\n",
       "      <td>NaN</td>\n",
       "      <td>thescoop</td>\n",
       "      <td>He and his wife were waiting for their lawyer ...</td>\n",
       "      <td>t2_4mn2e</td>\n",
       "      <td>False</td>\n",
       "      <td>NaN</td>\n",
       "      <td>0</td>\n",
       "      <td>False</td>\n",
       "      <td>On Monday, federal agents smashed the window o...</td>\n",
       "      <td>[]</td>\n",
       "      <td>...</td>\n",
       "      <td>https://v.redd.it/10vsgdla74ve1</td>\n",
       "      <td>{'images': [{'source': {'url': 'https://extern...</td>\n",
       "      <td>f0b02f78-df0e-11ef-a82b-06d054f9f415</td>\n",
       "      <td>NaN</td>\n",
       "      <td>NaN</td>\n",
       "      <td>NaN</td>\n",
       "      <td>17352</td>\n",
       "      <td>2025-04-14 23:59:59</td>\n",
       "      <td>NaN</td>\n",
       "      <td>NaN</td>\n",
       "    </tr>\n",
       "    <tr>\n",
       "      <th>3</th>\n",
       "      <td>NaN</td>\n",
       "      <td>pics</td>\n",
       "      <td>NaN</td>\n",
       "      <td>t2_fce02zg</td>\n",
       "      <td>False</td>\n",
       "      <td>NaN</td>\n",
       "      <td>0</td>\n",
       "      <td>False</td>\n",
       "      <td>[oc] on back of sign in Washington, D.C.</td>\n",
       "      <td>[]</td>\n",
       "      <td>...</td>\n",
       "      <td>https://i.redd.it/0n14wwrpy7ve1.jpeg</td>\n",
       "      <td>{'images': [{'source': {'url': 'https://previe...</td>\n",
       "      <td>NaN</td>\n",
       "      <td>NaN</td>\n",
       "      <td>NaN</td>\n",
       "      <td>NaN</td>\n",
       "      <td>25025</td>\n",
       "      <td>2025-04-14 23:59:59</td>\n",
       "      <td>NaN</td>\n",
       "      <td>NaN</td>\n",
       "    </tr>\n",
       "    <tr>\n",
       "      <th>4</th>\n",
       "      <td>NaN</td>\n",
       "      <td>gaming</td>\n",
       "      <td>How do they justify this?</td>\n",
       "      <td>t2_rc3i0</td>\n",
       "      <td>False</td>\n",
       "      <td>NaN</td>\n",
       "      <td>0</td>\n",
       "      <td>False</td>\n",
       "      <td>Sony is taking the piss with these price incre...</td>\n",
       "      <td>[]</td>\n",
       "      <td>...</td>\n",
       "      <td>https://i.redd.it/z85lnl2md6ve1.jpeg</td>\n",
       "      <td>{'images': [{'source': {'url': 'https://previe...</td>\n",
       "      <td>NaN</td>\n",
       "      <td>NaN</td>\n",
       "      <td>NaN</td>\n",
       "      <td>NaN</td>\n",
       "      <td>21462</td>\n",
       "      <td>2025-04-14 23:59:59</td>\n",
       "      <td>NaN</td>\n",
       "      <td>NaN</td>\n",
       "    </tr>\n",
       "  </tbody>\n",
       "</table>\n",
       "<p>5 rows × 115 columns</p>\n",
       "</div>"
      ],
      "text/plain": [
       "   approved_at_utc  subreddit  \\\n",
       "0              NaN  AskReddit   \n",
       "1              NaN        law   \n",
       "2              NaN   thescoop   \n",
       "3              NaN       pics   \n",
       "4              NaN     gaming   \n",
       "\n",
       "                                            selftext author_fullname  saved  \\\n",
       "0                                                NaN   t2_1mu4qhqhz7  False   \n",
       "1                                                NaN   t2_10wijw23wg  False   \n",
       "2  He and his wife were waiting for their lawyer ...        t2_4mn2e  False   \n",
       "3                                                NaN      t2_fce02zg  False   \n",
       "4                         How do they justify this?         t2_rc3i0  False   \n",
       "\n",
       "   mod_reason_title  gilded  clicked  \\\n",
       "0               NaN       0    False   \n",
       "1               NaN       0    False   \n",
       "2               NaN       0    False   \n",
       "3               NaN       0    False   \n",
       "4               NaN       0    False   \n",
       "\n",
       "                                               title link_flair_richtext  ...  \\\n",
       "0  What's the first game you spent hundreds of ho...                  []  ...   \n",
       "1  BREAKING: Judge Boasberg finds Trump officials...                  []  ...   \n",
       "2  On Monday, federal agents smashed the window o...                  []  ...   \n",
       "3           [oc] on back of sign in Washington, D.C.                  []  ...   \n",
       "4  Sony is taking the piss with these price incre...                  []  ...   \n",
       "\n",
       "                              url_overridden_by_dest  \\\n",
       "0                                                NaN   \n",
       "1  https://www.irishstar.com/news/us-news/breakin...   \n",
       "2                    https://v.redd.it/10vsgdla74ve1   \n",
       "3               https://i.redd.it/0n14wwrpy7ve1.jpeg   \n",
       "4               https://i.redd.it/z85lnl2md6ve1.jpeg   \n",
       "\n",
       "                                             preview  \\\n",
       "0                                                NaN   \n",
       "1  {'images': [{'source': {'url': 'https://extern...   \n",
       "2  {'images': [{'source': {'url': 'https://extern...   \n",
       "3  {'images': [{'source': {'url': 'https://previe...   \n",
       "4  {'images': [{'source': {'url': 'https://previe...   \n",
       "\n",
       "                 link_flair_template_id is_gallery  media_metadata  \\\n",
       "0                                   NaN        NaN             NaN   \n",
       "1  92ea8972-dca0-11ee-964c-bea59678bde5        NaN             NaN   \n",
       "2  f0b02f78-df0e-11ef-a82b-06d054f9f415        NaN             NaN   \n",
       "3                                   NaN        NaN             NaN   \n",
       "4                                   NaN        NaN             NaN   \n",
       "\n",
       "   gallery_data  updated_ups           updated_at crosspost_parent_list  \\\n",
       "0           NaN         3575  2025-04-14 23:59:59                   NaN   \n",
       "1           NaN        15897  2025-04-14 23:59:59                   NaN   \n",
       "2           NaN        17352  2025-04-14 23:59:59                   NaN   \n",
       "3           NaN        25025  2025-04-14 23:59:59                   NaN   \n",
       "4           NaN        21462  2025-04-14 23:59:59                   NaN   \n",
       "\n",
       "   crosspost_parent  \n",
       "0               NaN  \n",
       "1               NaN  \n",
       "2               NaN  \n",
       "3               NaN  \n",
       "4               NaN  \n",
       "\n",
       "[5 rows x 115 columns]"
      ]
     },
     "execution_count": 8,
     "metadata": {},
     "output_type": "execute_result"
    }
   ],
   "source": [
    "validation_df.head()"
   ]
  },
  {
   "cell_type": "code",
   "execution_count": 9,
   "id": "9a86c846-5f15-40c3-8a2a-bcfa7ad6b181",
   "metadata": {},
   "outputs": [
    {
     "data": {
      "text/plain": [
       "Index(['approved_at_utc', 'subreddit', 'selftext', 'author_fullname', 'saved',\n",
       "       'mod_reason_title', 'gilded', 'clicked', 'title', 'link_flair_richtext',\n",
       "       ...\n",
       "       'link_flair_template_id', 'is_gallery', 'media_metadata',\n",
       "       'gallery_data', 'post_url_from_permalink', 'updated_ups', 'updated_at',\n",
       "       'crosspost_parent_list', 'crosspost_parent', 'author_cakeday'],\n",
       "      dtype='object', length=117)"
      ]
     },
     "execution_count": 9,
     "metadata": {},
     "output_type": "execute_result"
    }
   ],
   "source": [
    "df.columns"
   ]
  },
  {
   "cell_type": "code",
   "execution_count": 10,
   "id": "3cbb3567-c39e-4ec3-aaca-78c1bcb9ea58",
   "metadata": {},
   "outputs": [
    {
     "data": {
      "text/plain": [
       "Index(['approved_at_utc', 'subreddit', 'selftext', 'author_fullname', 'saved',\n",
       "       'mod_reason_title', 'gilded', 'clicked', 'title', 'link_flair_richtext',\n",
       "       ...\n",
       "       'url_overridden_by_dest', 'preview', 'link_flair_template_id',\n",
       "       'is_gallery', 'media_metadata', 'gallery_data', 'updated_ups',\n",
       "       'updated_at', 'crosspost_parent_list', 'crosspost_parent'],\n",
       "      dtype='object', length=115)"
      ]
     },
     "execution_count": 10,
     "metadata": {},
     "output_type": "execute_result"
    }
   ],
   "source": [
    "validation_df.columns"
   ]
  },
  {
   "cell_type": "code",
   "execution_count": 11,
   "id": "19a5f0a4-8f13-478c-af0b-5376245a6417",
   "metadata": {},
   "outputs": [
    {
     "data": {
      "text/plain": [
       "(9200, 117)"
      ]
     },
     "execution_count": 11,
     "metadata": {},
     "output_type": "execute_result"
    }
   ],
   "source": [
    "df.shape"
   ]
  },
  {
   "cell_type": "code",
   "execution_count": 12,
   "id": "5998fed3-7272-4549-b656-b3bc35941cf7",
   "metadata": {},
   "outputs": [
    {
     "data": {
      "text/plain": [
       "(200, 115)"
      ]
     },
     "execution_count": 12,
     "metadata": {},
     "output_type": "execute_result"
    }
   ],
   "source": [
    "validation_df.shape"
   ]
  },
  {
   "cell_type": "code",
   "execution_count": 13,
   "id": "888189f7-655a-4b2b-90a3-6975105b700a",
   "metadata": {},
   "outputs": [],
   "source": [
    "validation_df['author_cakeday'] = None\n",
    "validation_df['post_url_from_permalink'] = None"
   ]
  },
  {
   "cell_type": "code",
   "execution_count": 14,
   "id": "e32185cb-c532-4809-a66c-002b9c2b6a2d",
   "metadata": {
    "scrolled": true
   },
   "outputs": [
    {
     "data": {
      "text/plain": [
       "['all_awardings',\n",
       " 'allow_live_comments',\n",
       " 'approved_at_utc',\n",
       " 'approved_by',\n",
       " 'archived',\n",
       " 'author',\n",
       " 'author_cakeday',\n",
       " 'author_flair_background_color',\n",
       " 'author_flair_css_class',\n",
       " 'author_flair_richtext',\n",
       " 'author_flair_template_id',\n",
       " 'author_flair_text',\n",
       " 'author_flair_text_color',\n",
       " 'author_flair_type',\n",
       " 'author_fullname',\n",
       " 'author_is_blocked',\n",
       " 'author_patreon_flair',\n",
       " 'author_premium',\n",
       " 'awarders',\n",
       " 'banned_at_utc',\n",
       " 'banned_by',\n",
       " 'can_gild',\n",
       " 'can_mod_post',\n",
       " 'category',\n",
       " 'clicked',\n",
       " 'content_categories',\n",
       " 'contest_mode',\n",
       " 'created',\n",
       " 'created_utc',\n",
       " 'crosspost_parent',\n",
       " 'crosspost_parent_list',\n",
       " 'discussion_type',\n",
       " 'distinguished',\n",
       " 'domain',\n",
       " 'downs',\n",
       " 'edited',\n",
       " 'gallery_data',\n",
       " 'gilded',\n",
       " 'gildings',\n",
       " 'hidden',\n",
       " 'hide_score',\n",
       " 'id',\n",
       " 'is_created_from_ads_ui',\n",
       " 'is_crosspostable',\n",
       " 'is_gallery',\n",
       " 'is_meta',\n",
       " 'is_original_content',\n",
       " 'is_reddit_media_domain',\n",
       " 'is_robot_indexable',\n",
       " 'is_self',\n",
       " 'is_video',\n",
       " 'likes',\n",
       " 'link_flair_background_color',\n",
       " 'link_flair_css_class',\n",
       " 'link_flair_richtext',\n",
       " 'link_flair_template_id',\n",
       " 'link_flair_text',\n",
       " 'link_flair_text_color',\n",
       " 'link_flair_type',\n",
       " 'locked',\n",
       " 'media',\n",
       " 'media_embed',\n",
       " 'media_metadata',\n",
       " 'media_only',\n",
       " 'mod_note',\n",
       " 'mod_reason_by',\n",
       " 'mod_reason_title',\n",
       " 'mod_reports',\n",
       " 'name',\n",
       " 'no_follow',\n",
       " 'num_comments',\n",
       " 'num_crossposts',\n",
       " 'num_reports',\n",
       " 'over_18',\n",
       " 'permalink',\n",
       " 'pinned',\n",
       " 'post_hint',\n",
       " 'post_url_from_permalink',\n",
       " 'preview',\n",
       " 'pwls',\n",
       " 'quarantine',\n",
       " 'removal_reason',\n",
       " 'removed_by',\n",
       " 'removed_by_category',\n",
       " 'report_reasons',\n",
       " 'saved',\n",
       " 'score',\n",
       " 'secure_media',\n",
       " 'secure_media_embed',\n",
       " 'selftext',\n",
       " 'selftext_html',\n",
       " 'send_replies',\n",
       " 'spoiler',\n",
       " 'stickied',\n",
       " 'subreddit',\n",
       " 'subreddit_id',\n",
       " 'subreddit_name_prefixed',\n",
       " 'subreddit_subscribers',\n",
       " 'subreddit_type',\n",
       " 'suggested_sort',\n",
       " 'thumbnail',\n",
       " 'thumbnail_height',\n",
       " 'thumbnail_width',\n",
       " 'title',\n",
       " 'top_awarded_type',\n",
       " 'total_awards_received',\n",
       " 'treatment_tags',\n",
       " 'updated_at',\n",
       " 'updated_ups',\n",
       " 'ups',\n",
       " 'upvote_ratio',\n",
       " 'url',\n",
       " 'url_overridden_by_dest',\n",
       " 'user_reports',\n",
       " 'view_count',\n",
       " 'visited',\n",
       " 'wls']"
      ]
     },
     "execution_count": 14,
     "metadata": {},
     "output_type": "execute_result"
    }
   ],
   "source": [
    "sorted(df.columns.to_list())"
   ]
  },
  {
   "cell_type": "code",
   "execution_count": 15,
   "id": "ed0984b5-9147-4335-b332-ac8894c107b0",
   "metadata": {},
   "outputs": [],
   "source": [
    "# Drop columns that don't have any use to us \n",
    "drop_columns = [\n",
    "    'all_awardings',\n",
    "    'allow_live_comments',\n",
    "    'approved_at_utc',\n",
    "    'approved_by',\n",
    "    'archived',\n",
    "    'author',\n",
    "    'author_cakeday',\n",
    "    'author_flair_background_color',\n",
    "    'author_flair_css_class',\n",
    "    'author_flair_richtext',\n",
    "    'author_flair_template_id',\n",
    "    'author_flair_text',\n",
    "    'author_flair_text_color',\n",
    "    'author_flair_type',\n",
    "    'author_fullname',\n",
    "    'author_is_blocked',\n",
    "    'author_patreon_flair',\n",
    "    'author_premium',\n",
    "    'awarders',\n",
    "    'banned_at_utc',\n",
    "    'banned_by',\n",
    "    'can_gild',\n",
    "    'can_mod_post',\n",
    "    # 'category',\n",
    "    'clicked',\n",
    "    # 'content_categories',\n",
    "    'contest_mode',\n",
    "    # 'created',\n",
    "    # 'created_utc',\n",
    "    'crosspost_parent',\n",
    "    'crosspost_parent_list',\n",
    "    # 'discussion_type',\n",
    "    'distinguished',\n",
    "    'domain',\n",
    "    # 'downs',\n",
    "    'edited',\n",
    "    'gallery_data',\n",
    "    'gilded',\n",
    "    'gildings',\n",
    "    'hidden',\n",
    "    'hide_score',\n",
    "    'id',\n",
    "    'is_created_from_ads_ui',\n",
    "    'is_crosspostable',\n",
    "    'is_gallery',\n",
    "    'is_meta',\n",
    "    'is_original_content',\n",
    "    'is_reddit_media_domain',\n",
    "    'is_robot_indexable',\n",
    "    'is_self',\n",
    "    # 'is_video',\n",
    "    # 'likes',\n",
    "    'link_flair_background_color',\n",
    "    'link_flair_css_class',\n",
    "    'link_flair_richtext',\n",
    "    'link_flair_template_id',\n",
    "    'link_flair_text',\n",
    "    'link_flair_text_color',\n",
    "    'link_flair_type',\n",
    "    'locked',\n",
    "    'media',\n",
    "    'media_embed',\n",
    "    'media_metadata',\n",
    "    'media_only',\n",
    "    'mod_note',\n",
    "    'mod_reason_by',\n",
    "    'mod_reason_title',\n",
    "    'mod_reports',\n",
    "    # 'name',\n",
    "    'no_follow',\n",
    "    # 'num_comments',\n",
    "    # 'num_crossposts',\n",
    "    # 'num_reports',\n",
    "    # 'over_18',\n",
    "    'permalink',\n",
    "    'pinned',\n",
    "    'post_hint',\n",
    "    'post_url_from_permalink',\n",
    "    'preview',\n",
    "    'pwls',\n",
    "    'quarantine',\n",
    "    'removal_reason',\n",
    "    'removed_by',\n",
    "    'removed_by_category',\n",
    "    'report_reasons',\n",
    "    'saved',\n",
    "    # 'score',\n",
    "    'secure_media',\n",
    "    'secure_media_embed',\n",
    "    'selftext',\n",
    "    'selftext_html',\n",
    "    'send_replies',\n",
    "    'spoiler',\n",
    "    'stickied',\n",
    "    # 'subreddit',\n",
    "    'subreddit_id',\n",
    "    'subreddit_name_prefixed',\n",
    "    # 'subreddit_subscribers',\n",
    "    # 'subreddit_type',\n",
    "    'suggested_sort',\n",
    "    'thumbnail',\n",
    "    'thumbnail_height',\n",
    "    'thumbnail_width',\n",
    "    # 'title',\n",
    "    'top_awarded_type',\n",
    "    'total_awards_received',\n",
    "    'treatment_tags',\n",
    "    # 'updated_at',\n",
    "    # 'updated_ups',\n",
    "    # 'ups',\n",
    "    # 'upvote_ratio',\n",
    "    'url',\n",
    "    'url_overridden_by_dest',\n",
    "    # 'user_reports',\n",
    "    # 'view_count',\n",
    "    'visited',\n",
    "    'wls'\n",
    "]"
   ]
  },
  {
   "cell_type": "code",
   "execution_count": 16,
   "id": "9d4cad86-ad60-41af-84ef-ff551131245a",
   "metadata": {},
   "outputs": [],
   "source": [
    "df.drop(columns=drop_columns, axis=1, inplace=True)"
   ]
  },
  {
   "cell_type": "code",
   "execution_count": 17,
   "id": "07a8c335-3028-4cb0-8c19-02c052af2b4e",
   "metadata": {},
   "outputs": [],
   "source": [
    "validation_df.drop(columns=drop_columns, axis=1, inplace=True)"
   ]
  },
  {
   "cell_type": "code",
   "execution_count": 18,
   "id": "10e49658-336c-4e72-b167-cad0d9a97257",
   "metadata": {},
   "outputs": [
    {
     "data": {
      "text/html": [
       "<div>\n",
       "<style scoped>\n",
       "    .dataframe tbody tr th:only-of-type {\n",
       "        vertical-align: middle;\n",
       "    }\n",
       "\n",
       "    .dataframe tbody tr th {\n",
       "        vertical-align: top;\n",
       "    }\n",
       "\n",
       "    .dataframe thead th {\n",
       "        text-align: right;\n",
       "    }\n",
       "</style>\n",
       "<table border=\"1\" class=\"dataframe\">\n",
       "  <thead>\n",
       "    <tr style=\"text-align: right;\">\n",
       "      <th></th>\n",
       "      <th>subreddit</th>\n",
       "      <th>title</th>\n",
       "      <th>downs</th>\n",
       "      <th>name</th>\n",
       "      <th>upvote_ratio</th>\n",
       "      <th>subreddit_type</th>\n",
       "      <th>ups</th>\n",
       "      <th>user_reports</th>\n",
       "      <th>category</th>\n",
       "      <th>score</th>\n",
       "      <th>...</th>\n",
       "      <th>over_18</th>\n",
       "      <th>num_reports</th>\n",
       "      <th>discussion_type</th>\n",
       "      <th>num_comments</th>\n",
       "      <th>subreddit_subscribers</th>\n",
       "      <th>created_utc</th>\n",
       "      <th>num_crossposts</th>\n",
       "      <th>is_video</th>\n",
       "      <th>updated_ups</th>\n",
       "      <th>updated_at</th>\n",
       "    </tr>\n",
       "  </thead>\n",
       "  <tbody>\n",
       "    <tr>\n",
       "      <th>0</th>\n",
       "      <td>pics</td>\n",
       "      <td>48</td>\n",
       "      <td>0</td>\n",
       "      <td>t3_1jf4ouq</td>\n",
       "      <td>1.0</td>\n",
       "      <td>public</td>\n",
       "      <td>1</td>\n",
       "      <td>[]</td>\n",
       "      <td>NaN</td>\n",
       "      <td>1</td>\n",
       "      <td>...</td>\n",
       "      <td>False</td>\n",
       "      <td>NaN</td>\n",
       "      <td>NaN</td>\n",
       "      <td>0</td>\n",
       "      <td>31807091</td>\n",
       "      <td>1.742411e+09</td>\n",
       "      <td>0</td>\n",
       "      <td>False</td>\n",
       "      <td>162.000000</td>\n",
       "      <td>2025-03-31 14:54:16</td>\n",
       "    </tr>\n",
       "    <tr>\n",
       "      <th>1</th>\n",
       "      <td>AskReddit</td>\n",
       "      <td>Ex Karen’s, what made you realize you were a K...</td>\n",
       "      <td>0</td>\n",
       "      <td>t3_1jf4op1</td>\n",
       "      <td>1.0</td>\n",
       "      <td>public</td>\n",
       "      <td>1</td>\n",
       "      <td>[]</td>\n",
       "      <td>NaN</td>\n",
       "      <td>1</td>\n",
       "      <td>...</td>\n",
       "      <td>False</td>\n",
       "      <td>NaN</td>\n",
       "      <td>NaN</td>\n",
       "      <td>0</td>\n",
       "      <td>52983358</td>\n",
       "      <td>1.742411e+09</td>\n",
       "      <td>0</td>\n",
       "      <td>False</td>\n",
       "      <td>0.000000</td>\n",
       "      <td>2025-03-31 14:54:16</td>\n",
       "    </tr>\n",
       "    <tr>\n",
       "      <th>2</th>\n",
       "      <td>AskReddit</td>\n",
       "      <td>What’s the worst name you’ve ever heard someon...</td>\n",
       "      <td>0</td>\n",
       "      <td>t3_1jf4off</td>\n",
       "      <td>1.0</td>\n",
       "      <td>public</td>\n",
       "      <td>1</td>\n",
       "      <td>[]</td>\n",
       "      <td>NaN</td>\n",
       "      <td>1</td>\n",
       "      <td>...</td>\n",
       "      <td>False</td>\n",
       "      <td>NaN</td>\n",
       "      <td>NaN</td>\n",
       "      <td>1</td>\n",
       "      <td>52983358</td>\n",
       "      <td>1.742411e+09</td>\n",
       "      <td>0</td>\n",
       "      <td>False</td>\n",
       "      <td>81.000000</td>\n",
       "      <td>2025-03-31 14:54:16</td>\n",
       "    </tr>\n",
       "    <tr>\n",
       "      <th>3</th>\n",
       "      <td>AskReddit</td>\n",
       "      <td>What was the reason that made you decide to re...</td>\n",
       "      <td>0</td>\n",
       "      <td>t3_1jf4o0c</td>\n",
       "      <td>1.0</td>\n",
       "      <td>public</td>\n",
       "      <td>2</td>\n",
       "      <td>[]</td>\n",
       "      <td>NaN</td>\n",
       "      <td>2</td>\n",
       "      <td>...</td>\n",
       "      <td>False</td>\n",
       "      <td>NaN</td>\n",
       "      <td>NaN</td>\n",
       "      <td>0</td>\n",
       "      <td>52983358</td>\n",
       "      <td>1.742411e+09</td>\n",
       "      <td>0</td>\n",
       "      <td>False</td>\n",
       "      <td>792.092554</td>\n",
       "      <td>2025-03-31 14:54:16</td>\n",
       "    </tr>\n",
       "    <tr>\n",
       "      <th>4</th>\n",
       "      <td>AskReddit</td>\n",
       "      <td>What is your city known for ?</td>\n",
       "      <td>0</td>\n",
       "      <td>t3_1jf4noe</td>\n",
       "      <td>1.0</td>\n",
       "      <td>public</td>\n",
       "      <td>2</td>\n",
       "      <td>[]</td>\n",
       "      <td>NaN</td>\n",
       "      <td>2</td>\n",
       "      <td>...</td>\n",
       "      <td>False</td>\n",
       "      <td>NaN</td>\n",
       "      <td>NaN</td>\n",
       "      <td>2</td>\n",
       "      <td>52983358</td>\n",
       "      <td>1.742411e+09</td>\n",
       "      <td>0</td>\n",
       "      <td>False</td>\n",
       "      <td>9855.000000</td>\n",
       "      <td>2025-03-31 14:54:16</td>\n",
       "    </tr>\n",
       "  </tbody>\n",
       "</table>\n",
       "<p>5 rows × 24 columns</p>\n",
       "</div>"
      ],
      "text/plain": [
       "   subreddit                                              title  downs  \\\n",
       "0       pics                                                 48      0   \n",
       "1  AskReddit  Ex Karen’s, what made you realize you were a K...      0   \n",
       "2  AskReddit  What’s the worst name you’ve ever heard someon...      0   \n",
       "3  AskReddit  What was the reason that made you decide to re...      0   \n",
       "4  AskReddit                      What is your city known for ?      0   \n",
       "\n",
       "         name  upvote_ratio subreddit_type  ups user_reports  category  score  \\\n",
       "0  t3_1jf4ouq           1.0         public    1           []       NaN      1   \n",
       "1  t3_1jf4op1           1.0         public    1           []       NaN      1   \n",
       "2  t3_1jf4off           1.0         public    1           []       NaN      1   \n",
       "3  t3_1jf4o0c           1.0         public    2           []       NaN      2   \n",
       "4  t3_1jf4noe           1.0         public    2           []       NaN      2   \n",
       "\n",
       "   ... over_18  num_reports  discussion_type  num_comments  \\\n",
       "0  ...   False          NaN              NaN             0   \n",
       "1  ...   False          NaN              NaN             0   \n",
       "2  ...   False          NaN              NaN             1   \n",
       "3  ...   False          NaN              NaN             0   \n",
       "4  ...   False          NaN              NaN             2   \n",
       "\n",
       "   subreddit_subscribers   created_utc  num_crossposts  is_video  updated_ups  \\\n",
       "0               31807091  1.742411e+09               0     False   162.000000   \n",
       "1               52983358  1.742411e+09               0     False     0.000000   \n",
       "2               52983358  1.742411e+09               0     False    81.000000   \n",
       "3               52983358  1.742411e+09               0     False   792.092554   \n",
       "4               52983358  1.742411e+09               0     False  9855.000000   \n",
       "\n",
       "            updated_at  \n",
       "0  2025-03-31 14:54:16  \n",
       "1  2025-03-31 14:54:16  \n",
       "2  2025-03-31 14:54:16  \n",
       "3  2025-03-31 14:54:16  \n",
       "4  2025-03-31 14:54:16  \n",
       "\n",
       "[5 rows x 24 columns]"
      ]
     },
     "execution_count": 18,
     "metadata": {},
     "output_type": "execute_result"
    }
   ],
   "source": [
    "df.head()"
   ]
  },
  {
   "cell_type": "code",
   "execution_count": 19,
   "id": "62cb6b2d-f274-4bfe-a240-d321e1fafbca",
   "metadata": {},
   "outputs": [
    {
     "data": {
      "text/plain": [
       "(9200, 24)"
      ]
     },
     "execution_count": 19,
     "metadata": {},
     "output_type": "execute_result"
    }
   ],
   "source": [
    "df.shape"
   ]
  },
  {
   "cell_type": "code",
   "execution_count": 20,
   "id": "60b3072f-1381-43b4-9c5a-61be5901ec9f",
   "metadata": {},
   "outputs": [
    {
     "data": {
      "text/plain": [
       "(200, 24)"
      ]
     },
     "execution_count": 20,
     "metadata": {},
     "output_type": "execute_result"
    }
   ],
   "source": [
    "validation_df.shape"
   ]
  },
  {
   "cell_type": "code",
   "execution_count": 21,
   "id": "b970dfe6-89ba-48d9-9be3-8634caeaf752",
   "metadata": {
    "scrolled": true
   },
   "outputs": [
    {
     "data": {
      "text/plain": [
       "['subreddit',\n",
       " 'title',\n",
       " 'downs',\n",
       " 'name',\n",
       " 'upvote_ratio',\n",
       " 'subreddit_type',\n",
       " 'ups',\n",
       " 'user_reports',\n",
       " 'category',\n",
       " 'score',\n",
       " 'content_categories',\n",
       " 'created',\n",
       " 'likes',\n",
       " 'view_count',\n",
       " 'over_18',\n",
       " 'num_reports',\n",
       " 'discussion_type',\n",
       " 'num_comments',\n",
       " 'subreddit_subscribers',\n",
       " 'created_utc',\n",
       " 'num_crossposts',\n",
       " 'is_video',\n",
       " 'updated_ups',\n",
       " 'updated_at']"
      ]
     },
     "execution_count": 21,
     "metadata": {},
     "output_type": "execute_result"
    }
   ],
   "source": [
    "df.columns.tolist()"
   ]
  },
  {
   "cell_type": "markdown",
   "id": "c26a806a-a8cd-4ad6-8fb8-ab22822fec79",
   "metadata": {},
   "source": [
    "### Numerical column analysis"
   ]
  },
  {
   "cell_type": "code",
   "execution_count": 22,
   "id": "70735c93-03dc-48ef-88bc-173092edf39b",
   "metadata": {
    "scrolled": true
   },
   "outputs": [],
   "source": [
    "numerical_columns = [\n",
    "    \"downs\", \n",
    "    \"ups\", \n",
    "    \"upvote_ratio\", \n",
    "    \"score\", \n",
    "    \"likes\", \n",
    "    \"view_count\", \n",
    "    \"num_comments\", \n",
    "    \"subreddit_subscribers\", \n",
    "    \"updated_ups\", \n",
    "    \"num_crossposts\",\n",
    "    \"num_reports\"\n",
    "]"
   ]
  },
  {
   "cell_type": "code",
   "execution_count": 23,
   "id": "0b44c17b-3f5a-4815-abd2-05bb03f884a9",
   "metadata": {
    "scrolled": true
   },
   "outputs": [
    {
     "name": "stdout",
     "output_type": "stream",
     "text": [
      "Analysis for 'downs'\n",
      "Min      : 0\n",
      "Max      : 0\n",
      "Mean     : 0.0\n",
      "Std. Dev : 0.0\n",
      "No. rows : 9200\n",
      "No. NaN's: 0\n",
      "Analysis for 'ups'\n",
      "Min      : 0\n",
      "Max      : 938\n",
      "Mean     : 5.003913043478261\n",
      "Std. Dev : 25.72071871354834\n",
      "No. rows : 9200\n",
      "No. NaN's: 0\n",
      "Analysis for 'upvote_ratio'\n",
      "Min      : 0.05\n",
      "Max      : 1.0\n",
      "Mean     : 0.8369641304347826\n",
      "Std. Dev : 0.23795261896196948\n",
      "No. rows : 9200\n",
      "No. NaN's: 0\n",
      "Analysis for 'score'\n",
      "Min      : 0\n",
      "Max      : 938\n",
      "Mean     : 5.003913043478261\n",
      "Std. Dev : 25.72071871354834\n",
      "No. rows : 9200\n",
      "No. NaN's: 0\n",
      "Analysis for 'likes'\n",
      "Min      : nan\n",
      "Max      : nan\n",
      "Mean     : nan\n",
      "Std. Dev : nan\n",
      "No. rows : 9200\n",
      "No. NaN's: 9200\n",
      "Analysis for 'view_count'\n",
      "Min      : nan\n",
      "Max      : nan\n",
      "Mean     : nan\n",
      "Std. Dev : nan\n",
      "No. rows : 9200\n",
      "No. NaN's: 9200\n",
      "Analysis for 'num_comments'\n",
      "Min      : 0\n",
      "Max      : 345\n",
      "Mean     : 4.473804347826087\n",
      "Std. Dev : 8.841403693314902\n",
      "No. rows : 9200\n",
      "No. NaN's: 0\n",
      "Analysis for 'subreddit_subscribers'\n",
      "Min      : 13636911\n",
      "Max      : 66645202\n",
      "Mean     : 44151061.320869565\n",
      "Std. Dev : 13078049.094092585\n",
      "No. rows : 9200\n",
      "No. NaN's: 0\n",
      "Analysis for 'updated_ups'\n",
      "Min      : 0.0\n",
      "Max      : 556752.0\n",
      "Mean     : 3929.3243878727876\n",
      "Std. Dev : 14072.66525631395\n",
      "No. rows : 9200\n",
      "No. NaN's: 83\n",
      "Analysis for 'num_crossposts'\n",
      "Min      : 0\n",
      "Max      : 3\n",
      "Mean     : 0.009347826086956522\n",
      "Std. Dev : 0.10794913253157311\n",
      "No. rows : 9200\n",
      "No. NaN's: 0\n",
      "Analysis for 'num_reports'\n",
      "Min      : nan\n",
      "Max      : nan\n",
      "Mean     : nan\n",
      "Std. Dev : nan\n",
      "No. rows : 9200\n",
      "No. NaN's: 9200\n"
     ]
    }
   ],
   "source": [
    "for column in numerical_columns:\n",
    "    print(f\"Analysis for '{column}'\")\n",
    "    # Cast the column to be numeric \n",
    "    df[column] = pd.to_numeric(df[column], errors=\"coerce\")\n",
    "    validation_df[column] = pd.to_numeric(validation_df[column], errors=\"coerce\")\n",
    "    min_value = df[column].min()\n",
    "    max_value = df[column].max()\n",
    "    mean_value = df[column].mean()\n",
    "    std_value = df[column].std()\n",
    "    num_rows = df.shape[0]\n",
    "    num_nans = df[column].isna().sum()\n",
    "    print(f\"Min      : {min_value}\")\n",
    "    print(f\"Max      : {max_value}\")\n",
    "    print(f\"Mean     : {mean_value}\")\n",
    "    print(f\"Std. Dev : {std_value}\")\n",
    "    print(f\"No. rows : {num_rows}\")\n",
    "    print(f\"No. NaN's: {num_nans}\")"
   ]
  },
  {
   "cell_type": "code",
   "execution_count": 24,
   "id": "516e0908-1eae-45d9-9b00-fce30325bcdd",
   "metadata": {},
   "outputs": [
    {
     "data": {
      "text/plain": [
       "True"
      ]
     },
     "execution_count": 24,
     "metadata": {},
     "output_type": "execute_result"
    }
   ],
   "source": [
    "# Check why score and ups have the same distribution \n",
    "df[\"score\"].equals(df[\"ups\"])"
   ]
  },
  {
   "cell_type": "markdown",
   "id": "3a1a1063-3ad0-4260-8b8c-1546fbc80034",
   "metadata": {},
   "source": [
    "## Conlusions from above observations: \n",
    "1. The 'downs' column does not provide us any value - hence, can be dropped \n",
    "2. 'score' and 'ups' columns are the same thing - hence, the score column can be dropped\n",
    "3. The 'likes' has no data - hence, can be dropped \n",
    "4. The 'view_count' column has no data! - hence, can be dropped\n",
    "5. The column 'num_crossposts' has a max value of 3 .. which means that a majority of the posts are not crossposted multiple times. might not contain much value\n",
    "6. The column 'num_reports' has no data - hence, can be dropped\n",
    "7. We can figure out the number of downvotes on a post by applying the upvote ratio \n",
    "8. The column 'updated_ups' has a bunch of NaN's which need to be filled with 0's - this is an artifact of the data collection technique"
   ]
  },
  {
   "cell_type": "code",
   "execution_count": 25,
   "id": "bb5257b6-d86c-42e9-8e5a-b95963e74b8b",
   "metadata": {},
   "outputs": [],
   "source": [
    "# Drop the useless numerical columns "
   ]
  },
  {
   "cell_type": "code",
   "execution_count": 26,
   "id": "7e9134f3-2f49-4a86-8c00-255c042e6f0c",
   "metadata": {},
   "outputs": [],
   "source": [
    "columns_to_drop = [\"downs\", \"score\", \"likes\", \"view_count\", \"num_reports\"]\n",
    "columns_to_drop = [column for column in columns_to_drop if column in df.columns]\n",
    "df.drop(\n",
    "    columns_to_drop,\n",
    "    axis=1,\n",
    "    inplace=True\n",
    ")\n",
    "validation_df.drop(\n",
    "    columns_to_drop,\n",
    "    axis=1, \n",
    "    inplace=True\n",
    ")"
   ]
  },
  {
   "cell_type": "code",
   "execution_count": 27,
   "id": "1e9a0f32-6a97-412d-84e3-370347af40f6",
   "metadata": {},
   "outputs": [],
   "source": [
    "non_numerical_columns = [column for column in df.columns if column not in numerical_columns]"
   ]
  },
  {
   "cell_type": "code",
   "execution_count": 28,
   "id": "8bf2ba37-9a1a-4f92-a5a5-3930e8316402",
   "metadata": {},
   "outputs": [
    {
     "data": {
      "text/html": [
       "<div>\n",
       "<style scoped>\n",
       "    .dataframe tbody tr th:only-of-type {\n",
       "        vertical-align: middle;\n",
       "    }\n",
       "\n",
       "    .dataframe tbody tr th {\n",
       "        vertical-align: top;\n",
       "    }\n",
       "\n",
       "    .dataframe thead th {\n",
       "        text-align: right;\n",
       "    }\n",
       "</style>\n",
       "<table border=\"1\" class=\"dataframe\">\n",
       "  <thead>\n",
       "    <tr style=\"text-align: right;\">\n",
       "      <th></th>\n",
       "      <th>subreddit</th>\n",
       "      <th>title</th>\n",
       "      <th>name</th>\n",
       "      <th>subreddit_type</th>\n",
       "      <th>user_reports</th>\n",
       "      <th>category</th>\n",
       "      <th>content_categories</th>\n",
       "      <th>created</th>\n",
       "      <th>over_18</th>\n",
       "      <th>discussion_type</th>\n",
       "      <th>created_utc</th>\n",
       "      <th>is_video</th>\n",
       "      <th>updated_at</th>\n",
       "    </tr>\n",
       "  </thead>\n",
       "  <tbody>\n",
       "    <tr>\n",
       "      <th>0</th>\n",
       "      <td>pics</td>\n",
       "      <td>48</td>\n",
       "      <td>t3_1jf4ouq</td>\n",
       "      <td>public</td>\n",
       "      <td>[]</td>\n",
       "      <td>NaN</td>\n",
       "      <td>['photography']</td>\n",
       "      <td>1.742411e+09</td>\n",
       "      <td>False</td>\n",
       "      <td>NaN</td>\n",
       "      <td>1.742411e+09</td>\n",
       "      <td>False</td>\n",
       "      <td>2025-03-31 14:54:16</td>\n",
       "    </tr>\n",
       "    <tr>\n",
       "      <th>1</th>\n",
       "      <td>AskReddit</td>\n",
       "      <td>Ex Karen’s, what made you realize you were a K...</td>\n",
       "      <td>t3_1jf4op1</td>\n",
       "      <td>public</td>\n",
       "      <td>[]</td>\n",
       "      <td>NaN</td>\n",
       "      <td>NaN</td>\n",
       "      <td>1.742411e+09</td>\n",
       "      <td>False</td>\n",
       "      <td>NaN</td>\n",
       "      <td>1.742411e+09</td>\n",
       "      <td>False</td>\n",
       "      <td>2025-03-31 14:54:16</td>\n",
       "    </tr>\n",
       "    <tr>\n",
       "      <th>2</th>\n",
       "      <td>AskReddit</td>\n",
       "      <td>What’s the worst name you’ve ever heard someon...</td>\n",
       "      <td>t3_1jf4off</td>\n",
       "      <td>public</td>\n",
       "      <td>[]</td>\n",
       "      <td>NaN</td>\n",
       "      <td>NaN</td>\n",
       "      <td>1.742411e+09</td>\n",
       "      <td>False</td>\n",
       "      <td>NaN</td>\n",
       "      <td>1.742411e+09</td>\n",
       "      <td>False</td>\n",
       "      <td>2025-03-31 14:54:16</td>\n",
       "    </tr>\n",
       "    <tr>\n",
       "      <th>3</th>\n",
       "      <td>AskReddit</td>\n",
       "      <td>What was the reason that made you decide to re...</td>\n",
       "      <td>t3_1jf4o0c</td>\n",
       "      <td>public</td>\n",
       "      <td>[]</td>\n",
       "      <td>NaN</td>\n",
       "      <td>NaN</td>\n",
       "      <td>1.742411e+09</td>\n",
       "      <td>False</td>\n",
       "      <td>NaN</td>\n",
       "      <td>1.742411e+09</td>\n",
       "      <td>False</td>\n",
       "      <td>2025-03-31 14:54:16</td>\n",
       "    </tr>\n",
       "    <tr>\n",
       "      <th>4</th>\n",
       "      <td>AskReddit</td>\n",
       "      <td>What is your city known for ?</td>\n",
       "      <td>t3_1jf4noe</td>\n",
       "      <td>public</td>\n",
       "      <td>[]</td>\n",
       "      <td>NaN</td>\n",
       "      <td>NaN</td>\n",
       "      <td>1.742411e+09</td>\n",
       "      <td>False</td>\n",
       "      <td>NaN</td>\n",
       "      <td>1.742411e+09</td>\n",
       "      <td>False</td>\n",
       "      <td>2025-03-31 14:54:16</td>\n",
       "    </tr>\n",
       "  </tbody>\n",
       "</table>\n",
       "</div>"
      ],
      "text/plain": [
       "   subreddit                                              title        name  \\\n",
       "0       pics                                                 48  t3_1jf4ouq   \n",
       "1  AskReddit  Ex Karen’s, what made you realize you were a K...  t3_1jf4op1   \n",
       "2  AskReddit  What’s the worst name you’ve ever heard someon...  t3_1jf4off   \n",
       "3  AskReddit  What was the reason that made you decide to re...  t3_1jf4o0c   \n",
       "4  AskReddit                      What is your city known for ?  t3_1jf4noe   \n",
       "\n",
       "  subreddit_type user_reports  category content_categories       created  \\\n",
       "0         public           []       NaN    ['photography']  1.742411e+09   \n",
       "1         public           []       NaN                NaN  1.742411e+09   \n",
       "2         public           []       NaN                NaN  1.742411e+09   \n",
       "3         public           []       NaN                NaN  1.742411e+09   \n",
       "4         public           []       NaN                NaN  1.742411e+09   \n",
       "\n",
       "   over_18  discussion_type   created_utc  is_video           updated_at  \n",
       "0    False              NaN  1.742411e+09     False  2025-03-31 14:54:16  \n",
       "1    False              NaN  1.742411e+09     False  2025-03-31 14:54:16  \n",
       "2    False              NaN  1.742411e+09     False  2025-03-31 14:54:16  \n",
       "3    False              NaN  1.742411e+09     False  2025-03-31 14:54:16  \n",
       "4    False              NaN  1.742411e+09     False  2025-03-31 14:54:16  "
      ]
     },
     "execution_count": 28,
     "metadata": {},
     "output_type": "execute_result"
    }
   ],
   "source": [
    "df[non_numerical_columns].head()"
   ]
  },
  {
   "cell_type": "code",
   "execution_count": 29,
   "id": "2749b379-7d42-49d9-acde-d3fca5443ec2",
   "metadata": {},
   "outputs": [],
   "source": [
    "# Cast non-numeric columns to appropriate data type \n",
    "df[\"subreddit\"] = df[\"subreddit\"].astype(str)\n",
    "df[\"title\"] = df[\"title\"].astype(str) \n",
    "df[\"name\"] = df[\"name\"].astype(str)\n",
    "df[\"subreddit_type\"] = df[\"subreddit_type\"].astype(str)\n",
    "df[\"user_reports\"] = df[\"user_reports\"].astype(str) # This is actually a list in string format - needs to be re-cast \n",
    "df[\"category\"] = df[\"category\"].astype(str)\n",
    "df[\"content_categories\"] = df[\"content_categories\"].astype(str) \n",
    "df[\"created\"] = df[\"created\"].astype(str)\n",
    "df[\"over_18\"] = df[\"over_18\"].astype(str)\n",
    "df[\"discussion_type\"] = df[\"discussion_type\"].astype(str)\n",
    "df[\"created_utc\"] = df[\"created_utc\"].astype(str)\n",
    "df[\"is_video\"] = df[\"is_video\"].astype(str) # Cast to boolean \n",
    "df[\"updated_at\"] = df[\"updated_at\"].astype(str)"
   ]
  },
  {
   "cell_type": "code",
   "execution_count": 30,
   "id": "60041973-39fd-4459-be63-bc511fec75ec",
   "metadata": {},
   "outputs": [],
   "source": [
    "# Cast non-numeric columns to appropriate data type \n",
    "validation_df[\"subreddit\"] = validation_df[\"subreddit\"].astype(str)\n",
    "validation_df[\"title\"] = validation_df[\"title\"].astype(str) \n",
    "validation_df[\"name\"] = validation_df[\"name\"].astype(str)\n",
    "validation_df[\"subreddit_type\"] = validation_df[\"subreddit_type\"].astype(str)\n",
    "validation_df[\"user_reports\"] = validation_df[\"user_reports\"].astype(str) # This is actually a list in string format - needs to be re-cast \n",
    "validation_df[\"category\"] = validation_df[\"category\"].astype(str)\n",
    "validation_df[\"content_categories\"] = validation_df[\"content_categories\"].astype(str) \n",
    "validation_df[\"created\"] = validation_df[\"created\"].astype(str)\n",
    "validation_df[\"over_18\"] = validation_df[\"over_18\"].astype(str)\n",
    "validation_df[\"discussion_type\"] = validation_df[\"discussion_type\"].astype(str)\n",
    "validation_df[\"created_utc\"] = validation_df[\"created_utc\"].astype(str)\n",
    "validation_df[\"is_video\"] = validation_df[\"is_video\"].astype(str) # Cast to boolean \n",
    "validation_df[\"updated_at\"] = validation_df[\"updated_at\"].astype(str)"
   ]
  },
  {
   "cell_type": "code",
   "execution_count": 31,
   "id": "d8131382-aca1-4387-b3e5-a0d990d42d17",
   "metadata": {},
   "outputs": [
    {
     "data": {
      "text/plain": [
       "['[]']"
      ]
     },
     "execution_count": 31,
     "metadata": {},
     "output_type": "execute_result"
    }
   ],
   "source": [
    "df[\"user_reports\"].unique().tolist()"
   ]
  },
  {
   "cell_type": "code",
   "execution_count": 32,
   "id": "18f16ad7-d419-4691-8fc3-5230123fb799",
   "metadata": {},
   "outputs": [
    {
     "data": {
      "text/plain": [
       "['nan']"
      ]
     },
     "execution_count": 32,
     "metadata": {},
     "output_type": "execute_result"
    }
   ],
   "source": [
    "df[\"discussion_type\"].unique().tolist()"
   ]
  },
  {
   "cell_type": "code",
   "execution_count": 33,
   "id": "4e6f67cc-4102-4cd4-8e19-9ce765a48a3c",
   "metadata": {},
   "outputs": [
    {
     "data": {
      "text/plain": [
       "[\"['photography']\", 'nan', \"['diy_and_crafts']\", \"['writing']\"]"
      ]
     },
     "execution_count": 33,
     "metadata": {},
     "output_type": "execute_result"
    }
   ],
   "source": [
    "df[\"content_categories\"].unique().tolist()"
   ]
  },
  {
   "cell_type": "code",
   "execution_count": 34,
   "id": "e90e2eda-99e8-4a70-9fc1-1ea580a52e96",
   "metadata": {},
   "outputs": [
    {
     "data": {
      "text/plain": [
       "content_categories\n",
       "nan                   8810\n",
       "['photography']        237\n",
       "['writing']             77\n",
       "['diy_and_crafts']      76\n",
       "Name: count, dtype: int64"
      ]
     },
     "execution_count": 34,
     "metadata": {},
     "output_type": "execute_result"
    }
   ],
   "source": [
    "df[\"content_categories\"].value_counts()"
   ]
  },
  {
   "cell_type": "code",
   "execution_count": 35,
   "id": "dc1f45ad-da00-45af-ac40-495b5d615715",
   "metadata": {},
   "outputs": [
    {
     "data": {
      "text/plain": [
       "['public']"
      ]
     },
     "execution_count": 35,
     "metadata": {},
     "output_type": "execute_result"
    }
   ],
   "source": [
    "df[\"subreddit_type\"].unique().tolist()"
   ]
  },
  {
   "cell_type": "code",
   "execution_count": 36,
   "id": "fa48c8e4-0dc4-4065-8a25-230036e1ebde",
   "metadata": {},
   "outputs": [
    {
     "data": {
      "text/plain": [
       "['nan']"
      ]
     },
     "execution_count": 36,
     "metadata": {},
     "output_type": "execute_result"
    }
   ],
   "source": [
    "df[\"category\"].unique().tolist()"
   ]
  },
  {
   "cell_type": "code",
   "execution_count": 37,
   "id": "808f9337-74c2-4956-8b9f-51eeba5700db",
   "metadata": {},
   "outputs": [
    {
     "data": {
      "text/plain": [
       "is_video\n",
       "False    9061\n",
       "True      139\n",
       "Name: count, dtype: int64"
      ]
     },
     "execution_count": 37,
     "metadata": {},
     "output_type": "execute_result"
    }
   ],
   "source": [
    "df[\"is_video\"].value_counts()"
   ]
  },
  {
   "cell_type": "code",
   "execution_count": 38,
   "id": "bc570262-e596-450c-953b-69152ca79003",
   "metadata": {},
   "outputs": [
    {
     "data": {
      "text/plain": [
       "over_18\n",
       "False    8865\n",
       "True      335\n",
       "Name: count, dtype: int64"
      ]
     },
     "execution_count": 38,
     "metadata": {},
     "output_type": "execute_result"
    }
   ],
   "source": [
    "df[\"over_18\"].value_counts()"
   ]
  },
  {
   "cell_type": "markdown",
   "id": "0bd1b9d6-ee77-41fe-8c8c-8e614ff8f6d6",
   "metadata": {},
   "source": [
    "## Conclusions from above observations \n",
    "1. 'user_reports' column does not contain any data - hence, can be dropped \n",
    "2. 'discussion_type' column does not contain any data - hence, can be dropped\n",
    "3. 'content_categories' are actually quite limited, most of them being NaN. Instead of trying to impute null content categories - we can try to infer this information from the title itself. But at that point, this column can become reduntant with the title column. Considering the number of null values, it is better to drop this column.\n",
    "4. 'subreddit_type' does not convey any information since all sub-reddits whose data is available to use are public - hence, can be dropped\n",
    "5. 'category' column does not contain any information - hence, can be dropped "
   ]
  },
  {
   "cell_type": "code",
   "execution_count": 39,
   "id": "47343adf-d8c4-4a78-9956-ef07540c18f4",
   "metadata": {},
   "outputs": [],
   "source": [
    "columns_to_drop = ['user_reports', 'discussion_type', 'content_categories', 'subreddit_type', 'category']\n",
    "columns_to_drop = [column for column in columns_to_drop if column in df.columns]\n",
    "df.drop(\n",
    "    columns_to_drop,\n",
    "    axis=1,\n",
    "    inplace=True\n",
    ")\n",
    "validation_df.drop(\n",
    "    columns_to_drop,\n",
    "    axis=1,\n",
    "    inplace=True\n",
    ")"
   ]
  },
  {
   "cell_type": "code",
   "execution_count": 40,
   "id": "89364d47-19af-4e24-9b94-485239d4fe6b",
   "metadata": {},
   "outputs": [
    {
     "data": {
      "text/html": [
       "<div>\n",
       "<style scoped>\n",
       "    .dataframe tbody tr th:only-of-type {\n",
       "        vertical-align: middle;\n",
       "    }\n",
       "\n",
       "    .dataframe tbody tr th {\n",
       "        vertical-align: top;\n",
       "    }\n",
       "\n",
       "    .dataframe thead th {\n",
       "        text-align: right;\n",
       "    }\n",
       "</style>\n",
       "<table border=\"1\" class=\"dataframe\">\n",
       "  <thead>\n",
       "    <tr style=\"text-align: right;\">\n",
       "      <th></th>\n",
       "      <th>subreddit</th>\n",
       "      <th>title</th>\n",
       "      <th>name</th>\n",
       "      <th>upvote_ratio</th>\n",
       "      <th>ups</th>\n",
       "      <th>created</th>\n",
       "      <th>over_18</th>\n",
       "      <th>num_comments</th>\n",
       "      <th>subreddit_subscribers</th>\n",
       "      <th>created_utc</th>\n",
       "      <th>num_crossposts</th>\n",
       "      <th>is_video</th>\n",
       "      <th>updated_ups</th>\n",
       "      <th>updated_at</th>\n",
       "    </tr>\n",
       "  </thead>\n",
       "  <tbody>\n",
       "    <tr>\n",
       "      <th>0</th>\n",
       "      <td>pics</td>\n",
       "      <td>48</td>\n",
       "      <td>t3_1jf4ouq</td>\n",
       "      <td>1.0</td>\n",
       "      <td>1</td>\n",
       "      <td>1742410672.0</td>\n",
       "      <td>False</td>\n",
       "      <td>0</td>\n",
       "      <td>31807091</td>\n",
       "      <td>1742410672.0</td>\n",
       "      <td>0</td>\n",
       "      <td>False</td>\n",
       "      <td>162.000000</td>\n",
       "      <td>2025-03-31 14:54:16</td>\n",
       "    </tr>\n",
       "    <tr>\n",
       "      <th>1</th>\n",
       "      <td>AskReddit</td>\n",
       "      <td>Ex Karen’s, what made you realize you were a K...</td>\n",
       "      <td>t3_1jf4op1</td>\n",
       "      <td>1.0</td>\n",
       "      <td>1</td>\n",
       "      <td>1742410662.0</td>\n",
       "      <td>False</td>\n",
       "      <td>0</td>\n",
       "      <td>52983358</td>\n",
       "      <td>1742410662.0</td>\n",
       "      <td>0</td>\n",
       "      <td>False</td>\n",
       "      <td>0.000000</td>\n",
       "      <td>2025-03-31 14:54:16</td>\n",
       "    </tr>\n",
       "    <tr>\n",
       "      <th>2</th>\n",
       "      <td>AskReddit</td>\n",
       "      <td>What’s the worst name you’ve ever heard someon...</td>\n",
       "      <td>t3_1jf4off</td>\n",
       "      <td>1.0</td>\n",
       "      <td>1</td>\n",
       "      <td>1742410643.0</td>\n",
       "      <td>False</td>\n",
       "      <td>1</td>\n",
       "      <td>52983358</td>\n",
       "      <td>1742410643.0</td>\n",
       "      <td>0</td>\n",
       "      <td>False</td>\n",
       "      <td>81.000000</td>\n",
       "      <td>2025-03-31 14:54:16</td>\n",
       "    </tr>\n",
       "    <tr>\n",
       "      <th>3</th>\n",
       "      <td>AskReddit</td>\n",
       "      <td>What was the reason that made you decide to re...</td>\n",
       "      <td>t3_1jf4o0c</td>\n",
       "      <td>1.0</td>\n",
       "      <td>2</td>\n",
       "      <td>1742410614.0</td>\n",
       "      <td>False</td>\n",
       "      <td>0</td>\n",
       "      <td>52983358</td>\n",
       "      <td>1742410614.0</td>\n",
       "      <td>0</td>\n",
       "      <td>False</td>\n",
       "      <td>792.092554</td>\n",
       "      <td>2025-03-31 14:54:16</td>\n",
       "    </tr>\n",
       "    <tr>\n",
       "      <th>4</th>\n",
       "      <td>AskReddit</td>\n",
       "      <td>What is your city known for ?</td>\n",
       "      <td>t3_1jf4noe</td>\n",
       "      <td>1.0</td>\n",
       "      <td>2</td>\n",
       "      <td>1742410591.0</td>\n",
       "      <td>False</td>\n",
       "      <td>2</td>\n",
       "      <td>52983358</td>\n",
       "      <td>1742410591.0</td>\n",
       "      <td>0</td>\n",
       "      <td>False</td>\n",
       "      <td>9855.000000</td>\n",
       "      <td>2025-03-31 14:54:16</td>\n",
       "    </tr>\n",
       "  </tbody>\n",
       "</table>\n",
       "</div>"
      ],
      "text/plain": [
       "   subreddit                                              title        name  \\\n",
       "0       pics                                                 48  t3_1jf4ouq   \n",
       "1  AskReddit  Ex Karen’s, what made you realize you were a K...  t3_1jf4op1   \n",
       "2  AskReddit  What’s the worst name you’ve ever heard someon...  t3_1jf4off   \n",
       "3  AskReddit  What was the reason that made you decide to re...  t3_1jf4o0c   \n",
       "4  AskReddit                      What is your city known for ?  t3_1jf4noe   \n",
       "\n",
       "   upvote_ratio  ups       created over_18  num_comments  \\\n",
       "0           1.0    1  1742410672.0   False             0   \n",
       "1           1.0    1  1742410662.0   False             0   \n",
       "2           1.0    1  1742410643.0   False             1   \n",
       "3           1.0    2  1742410614.0   False             0   \n",
       "4           1.0    2  1742410591.0   False             2   \n",
       "\n",
       "   subreddit_subscribers   created_utc  num_crossposts is_video  updated_ups  \\\n",
       "0               31807091  1742410672.0               0    False   162.000000   \n",
       "1               52983358  1742410662.0               0    False     0.000000   \n",
       "2               52983358  1742410643.0               0    False    81.000000   \n",
       "3               52983358  1742410614.0               0    False   792.092554   \n",
       "4               52983358  1742410591.0               0    False  9855.000000   \n",
       "\n",
       "            updated_at  \n",
       "0  2025-03-31 14:54:16  \n",
       "1  2025-03-31 14:54:16  \n",
       "2  2025-03-31 14:54:16  \n",
       "3  2025-03-31 14:54:16  \n",
       "4  2025-03-31 14:54:16  "
      ]
     },
     "execution_count": 40,
     "metadata": {},
     "output_type": "execute_result"
    }
   ],
   "source": [
    "df.head()"
   ]
  },
  {
   "cell_type": "code",
   "execution_count": 41,
   "id": "54ca3f01-5b15-4301-8241-764ecfb52ddc",
   "metadata": {},
   "outputs": [
    {
     "data": {
      "text/plain": [
       "(9200, 14)"
      ]
     },
     "execution_count": 41,
     "metadata": {},
     "output_type": "execute_result"
    }
   ],
   "source": [
    "df.shape"
   ]
  },
  {
   "cell_type": "markdown",
   "id": "48b615e7-518c-441c-827c-eacf3a22cad4",
   "metadata": {},
   "source": [
    "We are now left with 14 columns. Let's try to figure out how many of these are fit for modelling "
   ]
  },
  {
   "cell_type": "code",
   "execution_count": 42,
   "id": "69e91b5e-c15f-435b-b067-dfecd14fa301",
   "metadata": {},
   "outputs": [
    {
     "name": "stderr",
     "output_type": "stream",
     "text": [
      "/var/folders/w1/mw0q783s1b5bj1lkrz62mvwr0000gp/T/ipykernel_9937/3607625801.py:11: UserWarning: FigureCanvasAgg is non-interactive, and thus cannot be shown\n",
      "  fig.show()\n"
     ]
    },
    {
     "data": {
      "image/png": "[encoded data removed]",
      "text/plain": [
       "<Figure size 2000x500 with 1 Axes>"
      ]
     },
     "metadata": {},
     "output_type": "display_data"
    }
   ],
   "source": [
    "fig, ax = plt.subplots(nrows=1, ncols=1, figsize=(20, 5))\n",
    "\n",
    "categories = df[\"subreddit\"].value_counts().index \n",
    "values = df[\"subreddit\"].value_counts().values\n",
    "ax.bar(categories, values, width=0.5)\n",
    "ax.set_xlabel(\"Subreddit Name\")\n",
    "ax.set_ylabel(\"Number of posts\")\n",
    "ax.set_title(\"Distribution of sub-reddits\")\n",
    "ax.set_xticks(ax.get_xticks())\n",
    "ax.set_xticklabels(ax.get_xticklabels(), rotation=45, ha=\"right\")\n",
    "fig.show()"
   ]
  },
  {
   "cell_type": "code",
   "execution_count": 43,
   "id": "1c929a2a-8251-4fa2-91c4-6a5a8ee009e6",
   "metadata": {},
   "outputs": [
    {
     "name": "stderr",
     "output_type": "stream",
     "text": [
      "/var/folders/w1/mw0q783s1b5bj1lkrz62mvwr0000gp/T/ipykernel_9937/1989542954.py:26: UserWarning: FigureCanvasAgg is non-interactive, and thus cannot be shown\n",
      "  fig.show()\n"
     ]
    },
    {
     "data": {
      "image/png": "[encoded data removed]",
      "text/plain": [
       "<Figure size 2000x1000 with 4 Axes>"
      ]
     },
     "metadata": {},
     "output_type": "display_data"
    }
   ],
   "source": [
    "fig, axes = plt.subplots(nrows=2, ncols=2, figsize=(20, 10))\n",
    "\n",
    "boxplot_columns = [\n",
    "    \"ups\",\n",
    "    \"num_comments\",\n",
    "    \"subreddit_subscribers\",\n",
    "    \"updated_ups\"\n",
    "]\n",
    "\n",
    "ax = axes[0][0] \n",
    "ax.boxplot(df[\"ups\"])\n",
    "ax.set_title(f\"Distribution of ups\")\n",
    "\n",
    "ax = axes[0][1]\n",
    "ax.boxplot(df[\"num_comments\"])\n",
    "ax.set_title(f\"Distribution of num_comments\")\n",
    "\n",
    "ax = axes[1][0]\n",
    "ax.boxplot(df[\"subreddit_subscribers\"])\n",
    "ax.set_title(f\"Distribution of subreddit_subscribers\")\n",
    "\n",
    "ax = axes[1][1]\n",
    "ax.boxplot(pd.to_numeric(df[\"updated_ups\"], errors=\"coerce\").fillna(0))\n",
    "ax.set_title(f\"Distribution of updated_ups\")\n",
    "\n",
    "fig.show()"
   ]
  },
  {
   "cell_type": "code",
   "execution_count": 44,
   "id": "95b03349-c4e7-4add-906e-d28405f001ab",
   "metadata": {},
   "outputs": [
    {
     "name": "stderr",
     "output_type": "stream",
     "text": [
      "/var/folders/w1/mw0q783s1b5bj1lkrz62mvwr0000gp/T/ipykernel_9937/1377323798.py:15: UserWarning: FigureCanvasAgg is non-interactive, and thus cannot be shown\n",
      "  fig.show()\n"
     ]
    },
    {
     "data": {
      "image/png": "[encoded data removed]",
      "text/plain": [
       "<Figure size 2000x1000 with 2 Axes>"
      ]
     },
     "metadata": {},
     "output_type": "display_data"
    }
   ],
   "source": [
    "fig, axes = plt.subplots(nrows=2, ncols=1, figsize=(20, 10))\n",
    "\n",
    "ax = axes[0]\n",
    "ax.hist(df[\"ups\"], bins=50, color=\"brown\")\n",
    "ax.set_title(\"Distribution of upvotes\")\n",
    "ax.set_xlabel(\"Upvotes\")\n",
    "ax.set_ylabel(\"Frequency\")\n",
    "\n",
    "ax = axes[1] \n",
    "ax.hist(df[\"updated_ups\"], bins=50, color=\"purple\")\n",
    "ax.set_title(\"Distribution of updated upvotes\")\n",
    "ax.set_xlabel(\"Updated upvotes\")\n",
    "ax.set_ylabel(\"Frequency\")\n",
    "\n",
    "fig.show()"
   ]
  },
  {
   "cell_type": "code",
   "execution_count": 45,
   "id": "6953a9a4-0598-44be-9194-ac18bc59609a",
   "metadata": {},
   "outputs": [
    {
     "data": {
      "text/plain": [
       "np.float64(299.17618167574534)"
      ]
     },
     "execution_count": 45,
     "metadata": {},
     "output_type": "execute_result"
    }
   ],
   "source": [
    "df[\"updated_ups\"].quantile(0.5)"
   ]
  },
  {
   "cell_type": "code",
   "execution_count": 46,
   "id": "b5b6d99c-bc5f-4d8c-8394-501dd344ef7c",
   "metadata": {},
   "outputs": [
    {
     "data": {
      "text/plain": [
       "np.float64(8.0)"
      ]
     },
     "execution_count": 46,
     "metadata": {},
     "output_type": "execute_result"
    }
   ],
   "source": [
    "df[\"ups\"].quantile(0.9)"
   ]
  },
  {
   "cell_type": "code",
   "execution_count": 47,
   "id": "3b382326-c6e3-41bd-84d8-46dd512a3a34",
   "metadata": {},
   "outputs": [],
   "source": [
    "# pick above as criterion for virality \n",
    "# 50% of posts have greater than 300 upvotes \n",
    "# Criterion for virality - If a post has greater than 3 upvotes, it is considered viral \n",
    "# What % of posts are viral - Roughly 50% "
   ]
  },
  {
   "cell_type": "code",
   "execution_count": 48,
   "id": "c3a1fea4-1b67-4113-bc5f-9e4a5afa18c3",
   "metadata": {},
   "outputs": [],
   "source": [
    "df[\"viral\"] = False \n",
    "df.loc[df[\"updated_ups\"] >= 300, \"viral\"] = True "
   ]
  },
  {
   "cell_type": "code",
   "execution_count": 49,
   "id": "7bbfc40d-8e8e-4eeb-8272-5efe6e5c5fe7",
   "metadata": {},
   "outputs": [],
   "source": [
    "validation_df[\"viral\"] = False \n",
    "validation_df.loc[validation_df[\"updated_ups\"] >= 300, \"viral\"] = True "
   ]
  },
  {
   "cell_type": "code",
   "execution_count": 50,
   "id": "ca3e14a0-6ab6-4431-bf05-97bce15923e2",
   "metadata": {},
   "outputs": [
    {
     "data": {
      "text/plain": [
       "viral\n",
       "False    4643\n",
       "True     4557\n",
       "Name: count, dtype: int64"
      ]
     },
     "execution_count": 50,
     "metadata": {},
     "output_type": "execute_result"
    }
   ],
   "source": [
    "df[\"viral\"].value_counts()"
   ]
  },
  {
   "cell_type": "markdown",
   "id": "a7734eb1-a029-4118-a5d5-cf2b773a2fce",
   "metadata": {},
   "source": [
    "# Creating our models"
   ]
  },
  {
   "cell_type": "markdown",
   "id": "4d082847-53b3-4c62-b6df-cb425fe7af3f",
   "metadata": {},
   "source": [
    "We want create two models for our data \n",
    "1. Logistic regression classification model\n",
    "2. XGBoost model"
   ]
  },
  {
   "cell_type": "code",
   "execution_count": 51,
   "id": "0dc24f5b-f629-462c-9f14-4d82cf34d180",
   "metadata": {},
   "outputs": [
    {
     "data": {
      "text/html": [
       "<div>\n",
       "<style scoped>\n",
       "    .dataframe tbody tr th:only-of-type {\n",
       "        vertical-align: middle;\n",
       "    }\n",
       "\n",
       "    .dataframe tbody tr th {\n",
       "        vertical-align: top;\n",
       "    }\n",
       "\n",
       "    .dataframe thead th {\n",
       "        text-align: right;\n",
       "    }\n",
       "</style>\n",
       "<table border=\"1\" class=\"dataframe\">\n",
       "  <thead>\n",
       "    <tr style=\"text-align: right;\">\n",
       "      <th></th>\n",
       "      <th>subreddit</th>\n",
       "      <th>title</th>\n",
       "      <th>name</th>\n",
       "      <th>upvote_ratio</th>\n",
       "      <th>ups</th>\n",
       "      <th>created</th>\n",
       "      <th>over_18</th>\n",
       "      <th>num_comments</th>\n",
       "      <th>subreddit_subscribers</th>\n",
       "      <th>created_utc</th>\n",
       "      <th>num_crossposts</th>\n",
       "      <th>is_video</th>\n",
       "      <th>updated_ups</th>\n",
       "      <th>updated_at</th>\n",
       "      <th>viral</th>\n",
       "    </tr>\n",
       "  </thead>\n",
       "  <tbody>\n",
       "    <tr>\n",
       "      <th>0</th>\n",
       "      <td>pics</td>\n",
       "      <td>48</td>\n",
       "      <td>t3_1jf4ouq</td>\n",
       "      <td>1.0</td>\n",
       "      <td>1</td>\n",
       "      <td>1742410672.0</td>\n",
       "      <td>False</td>\n",
       "      <td>0</td>\n",
       "      <td>31807091</td>\n",
       "      <td>1742410672.0</td>\n",
       "      <td>0</td>\n",
       "      <td>False</td>\n",
       "      <td>162.000000</td>\n",
       "      <td>2025-03-31 14:54:16</td>\n",
       "      <td>False</td>\n",
       "    </tr>\n",
       "    <tr>\n",
       "      <th>1</th>\n",
       "      <td>AskReddit</td>\n",
       "      <td>Ex Karen’s, what made you realize you were a K...</td>\n",
       "      <td>t3_1jf4op1</td>\n",
       "      <td>1.0</td>\n",
       "      <td>1</td>\n",
       "      <td>1742410662.0</td>\n",
       "      <td>False</td>\n",
       "      <td>0</td>\n",
       "      <td>52983358</td>\n",
       "      <td>1742410662.0</td>\n",
       "      <td>0</td>\n",
       "      <td>False</td>\n",
       "      <td>0.000000</td>\n",
       "      <td>2025-03-31 14:54:16</td>\n",
       "      <td>False</td>\n",
       "    </tr>\n",
       "    <tr>\n",
       "      <th>2</th>\n",
       "      <td>AskReddit</td>\n",
       "      <td>What’s the worst name you’ve ever heard someon...</td>\n",
       "      <td>t3_1jf4off</td>\n",
       "      <td>1.0</td>\n",
       "      <td>1</td>\n",
       "      <td>1742410643.0</td>\n",
       "      <td>False</td>\n",
       "      <td>1</td>\n",
       "      <td>52983358</td>\n",
       "      <td>1742410643.0</td>\n",
       "      <td>0</td>\n",
       "      <td>False</td>\n",
       "      <td>81.000000</td>\n",
       "      <td>2025-03-31 14:54:16</td>\n",
       "      <td>False</td>\n",
       "    </tr>\n",
       "    <tr>\n",
       "      <th>3</th>\n",
       "      <td>AskReddit</td>\n",
       "      <td>What was the reason that made you decide to re...</td>\n",
       "      <td>t3_1jf4o0c</td>\n",
       "      <td>1.0</td>\n",
       "      <td>2</td>\n",
       "      <td>1742410614.0</td>\n",
       "      <td>False</td>\n",
       "      <td>0</td>\n",
       "      <td>52983358</td>\n",
       "      <td>1742410614.0</td>\n",
       "      <td>0</td>\n",
       "      <td>False</td>\n",
       "      <td>792.092554</td>\n",
       "      <td>2025-03-31 14:54:16</td>\n",
       "      <td>True</td>\n",
       "    </tr>\n",
       "    <tr>\n",
       "      <th>4</th>\n",
       "      <td>AskReddit</td>\n",
       "      <td>What is your city known for ?</td>\n",
       "      <td>t3_1jf4noe</td>\n",
       "      <td>1.0</td>\n",
       "      <td>2</td>\n",
       "      <td>1742410591.0</td>\n",
       "      <td>False</td>\n",
       "      <td>2</td>\n",
       "      <td>52983358</td>\n",
       "      <td>1742410591.0</td>\n",
       "      <td>0</td>\n",
       "      <td>False</td>\n",
       "      <td>9855.000000</td>\n",
       "      <td>2025-03-31 14:54:16</td>\n",
       "      <td>True</td>\n",
       "    </tr>\n",
       "  </tbody>\n",
       "</table>\n",
       "</div>"
      ],
      "text/plain": [
       "   subreddit                                              title        name  \\\n",
       "0       pics                                                 48  t3_1jf4ouq   \n",
       "1  AskReddit  Ex Karen’s, what made you realize you were a K...  t3_1jf4op1   \n",
       "2  AskReddit  What’s the worst name you’ve ever heard someon...  t3_1jf4off   \n",
       "3  AskReddit  What was the reason that made you decide to re...  t3_1jf4o0c   \n",
       "4  AskReddit                      What is your city known for ?  t3_1jf4noe   \n",
       "\n",
       "   upvote_ratio  ups       created over_18  num_comments  \\\n",
       "0           1.0    1  1742410672.0   False             0   \n",
       "1           1.0    1  1742410662.0   False             0   \n",
       "2           1.0    1  1742410643.0   False             1   \n",
       "3           1.0    2  1742410614.0   False             0   \n",
       "4           1.0    2  1742410591.0   False             2   \n",
       "\n",
       "   subreddit_subscribers   created_utc  num_crossposts is_video  updated_ups  \\\n",
       "0               31807091  1742410672.0               0    False   162.000000   \n",
       "1               52983358  1742410662.0               0    False     0.000000   \n",
       "2               52983358  1742410643.0               0    False    81.000000   \n",
       "3               52983358  1742410614.0               0    False   792.092554   \n",
       "4               52983358  1742410591.0               0    False  9855.000000   \n",
       "\n",
       "            updated_at  viral  \n",
       "0  2025-03-31 14:54:16  False  \n",
       "1  2025-03-31 14:54:16  False  \n",
       "2  2025-03-31 14:54:16  False  \n",
       "3  2025-03-31 14:54:16   True  \n",
       "4  2025-03-31 14:54:16   True  "
      ]
     },
     "execution_count": 51,
     "metadata": {},
     "output_type": "execute_result"
    }
   ],
   "source": [
    "df.head()"
   ]
  },
  {
   "cell_type": "code",
   "execution_count": 52,
   "id": "89c019ee-3d40-4ee1-ab9c-542ea36bb63f",
   "metadata": {},
   "outputs": [],
   "source": [
    "df[\"created\"] = pd.to_datetime(\n",
    "    pd.to_numeric(\n",
    "        df[\"created\"], \n",
    "        errors=\"coerce\"\n",
    "    ), \n",
    "    unit=\"s\", \n",
    "    errors=\"coerce\"\n",
    ")"
   ]
  },
  {
   "cell_type": "code",
   "execution_count": 53,
   "id": "35e01392-7444-4a3b-9384-9936b0c7ce9a",
   "metadata": {},
   "outputs": [],
   "source": [
    "validation_df[\"created\"] = pd.to_datetime(\n",
    "    pd.to_numeric(\n",
    "        validation_df[\"created\"], \n",
    "        errors=\"coerce\"\n",
    "    ), \n",
    "    unit=\"s\", \n",
    "    errors=\"coerce\"\n",
    ")"
   ]
  },
  {
   "cell_type": "code",
   "execution_count": 54,
   "id": "c4b282bf-05a5-4a97-b4f3-68b0ec0867b4",
   "metadata": {},
   "outputs": [],
   "source": [
    "def get_time_of_day_from_datetime(datetime_value):\n",
    "    hour = datetime_value.hour \n",
    "    if hour >= 5 and hour < 12:\n",
    "        return \"morning\"\n",
    "    elif hour >= 12 and hour < 16:\n",
    "        return \"afternoon\"\n",
    "    elif hour >= 16 and hour < 20:\n",
    "        return \"evening\"\n",
    "    else:\n",
    "        return \"night\""
   ]
  },
  {
   "cell_type": "code",
   "execution_count": 55,
   "id": "0b2426d6-9045-4e85-a79d-ffa8a2920596",
   "metadata": {},
   "outputs": [],
   "source": [
    "df[\"time_of_day\"] = df[\"created\"].apply(lambda x : get_time_of_day_from_datetime(x))"
   ]
  },
  {
   "cell_type": "code",
   "execution_count": 56,
   "id": "3b89390b-9cbc-4117-af55-fb6dc77ea03d",
   "metadata": {},
   "outputs": [],
   "source": [
    "validation_df[\"time_of_day\"] = validation_df[\"created\"].apply(lambda x : get_time_of_day_from_datetime(x))"
   ]
  },
  {
   "cell_type": "code",
   "execution_count": 57,
   "id": "0f922d9a-4e82-4b74-b3fb-016058c31e83",
   "metadata": {},
   "outputs": [
    {
     "data": {
      "text/html": [
       "<div>\n",
       "<style scoped>\n",
       "    .dataframe tbody tr th:only-of-type {\n",
       "        vertical-align: middle;\n",
       "    }\n",
       "\n",
       "    .dataframe tbody tr th {\n",
       "        vertical-align: top;\n",
       "    }\n",
       "\n",
       "    .dataframe thead th {\n",
       "        text-align: right;\n",
       "    }\n",
       "</style>\n",
       "<table border=\"1\" class=\"dataframe\">\n",
       "  <thead>\n",
       "    <tr style=\"text-align: right;\">\n",
       "      <th></th>\n",
       "      <th>subreddit</th>\n",
       "      <th>title</th>\n",
       "      <th>name</th>\n",
       "      <th>upvote_ratio</th>\n",
       "      <th>ups</th>\n",
       "      <th>created</th>\n",
       "      <th>over_18</th>\n",
       "      <th>num_comments</th>\n",
       "      <th>subreddit_subscribers</th>\n",
       "      <th>created_utc</th>\n",
       "      <th>num_crossposts</th>\n",
       "      <th>is_video</th>\n",
       "      <th>updated_ups</th>\n",
       "      <th>updated_at</th>\n",
       "      <th>viral</th>\n",
       "      <th>time_of_day</th>\n",
       "    </tr>\n",
       "  </thead>\n",
       "  <tbody>\n",
       "    <tr>\n",
       "      <th>0</th>\n",
       "      <td>pics</td>\n",
       "      <td>48</td>\n",
       "      <td>t3_1jf4ouq</td>\n",
       "      <td>1.0</td>\n",
       "      <td>1</td>\n",
       "      <td>2025-03-19 18:57:52</td>\n",
       "      <td>False</td>\n",
       "      <td>0</td>\n",
       "      <td>31807091</td>\n",
       "      <td>1742410672.0</td>\n",
       "      <td>0</td>\n",
       "      <td>False</td>\n",
       "      <td>162.000000</td>\n",
       "      <td>2025-03-31 14:54:16</td>\n",
       "      <td>False</td>\n",
       "      <td>evening</td>\n",
       "    </tr>\n",
       "    <tr>\n",
       "      <th>1</th>\n",
       "      <td>AskReddit</td>\n",
       "      <td>Ex Karen’s, what made you realize you were a K...</td>\n",
       "      <td>t3_1jf4op1</td>\n",
       "      <td>1.0</td>\n",
       "      <td>1</td>\n",
       "      <td>2025-03-19 18:57:42</td>\n",
       "      <td>False</td>\n",
       "      <td>0</td>\n",
       "      <td>52983358</td>\n",
       "      <td>1742410662.0</td>\n",
       "      <td>0</td>\n",
       "      <td>False</td>\n",
       "      <td>0.000000</td>\n",
       "      <td>2025-03-31 14:54:16</td>\n",
       "      <td>False</td>\n",
       "      <td>evening</td>\n",
       "    </tr>\n",
       "    <tr>\n",
       "      <th>2</th>\n",
       "      <td>AskReddit</td>\n",
       "      <td>What’s the worst name you’ve ever heard someon...</td>\n",
       "      <td>t3_1jf4off</td>\n",
       "      <td>1.0</td>\n",
       "      <td>1</td>\n",
       "      <td>2025-03-19 18:57:23</td>\n",
       "      <td>False</td>\n",
       "      <td>1</td>\n",
       "      <td>52983358</td>\n",
       "      <td>1742410643.0</td>\n",
       "      <td>0</td>\n",
       "      <td>False</td>\n",
       "      <td>81.000000</td>\n",
       "      <td>2025-03-31 14:54:16</td>\n",
       "      <td>False</td>\n",
       "      <td>evening</td>\n",
       "    </tr>\n",
       "    <tr>\n",
       "      <th>3</th>\n",
       "      <td>AskReddit</td>\n",
       "      <td>What was the reason that made you decide to re...</td>\n",
       "      <td>t3_1jf4o0c</td>\n",
       "      <td>1.0</td>\n",
       "      <td>2</td>\n",
       "      <td>2025-03-19 18:56:54</td>\n",
       "      <td>False</td>\n",
       "      <td>0</td>\n",
       "      <td>52983358</td>\n",
       "      <td>1742410614.0</td>\n",
       "      <td>0</td>\n",
       "      <td>False</td>\n",
       "      <td>792.092554</td>\n",
       "      <td>2025-03-31 14:54:16</td>\n",
       "      <td>True</td>\n",
       "      <td>evening</td>\n",
       "    </tr>\n",
       "    <tr>\n",
       "      <th>4</th>\n",
       "      <td>AskReddit</td>\n",
       "      <td>What is your city known for ?</td>\n",
       "      <td>t3_1jf4noe</td>\n",
       "      <td>1.0</td>\n",
       "      <td>2</td>\n",
       "      <td>2025-03-19 18:56:31</td>\n",
       "      <td>False</td>\n",
       "      <td>2</td>\n",
       "      <td>52983358</td>\n",
       "      <td>1742410591.0</td>\n",
       "      <td>0</td>\n",
       "      <td>False</td>\n",
       "      <td>9855.000000</td>\n",
       "      <td>2025-03-31 14:54:16</td>\n",
       "      <td>True</td>\n",
       "      <td>evening</td>\n",
       "    </tr>\n",
       "  </tbody>\n",
       "</table>\n",
       "</div>"
      ],
      "text/plain": [
       "   subreddit                                              title        name  \\\n",
       "0       pics                                                 48  t3_1jf4ouq   \n",
       "1  AskReddit  Ex Karen’s, what made you realize you were a K...  t3_1jf4op1   \n",
       "2  AskReddit  What’s the worst name you’ve ever heard someon...  t3_1jf4off   \n",
       "3  AskReddit  What was the reason that made you decide to re...  t3_1jf4o0c   \n",
       "4  AskReddit                      What is your city known for ?  t3_1jf4noe   \n",
       "\n",
       "   upvote_ratio  ups             created over_18  num_comments  \\\n",
       "0           1.0    1 2025-03-19 18:57:52   False             0   \n",
       "1           1.0    1 2025-03-19 18:57:42   False             0   \n",
       "2           1.0    1 2025-03-19 18:57:23   False             1   \n",
       "3           1.0    2 2025-03-19 18:56:54   False             0   \n",
       "4           1.0    2 2025-03-19 18:56:31   False             2   \n",
       "\n",
       "   subreddit_subscribers   created_utc  num_crossposts is_video  updated_ups  \\\n",
       "0               31807091  1742410672.0               0    False   162.000000   \n",
       "1               52983358  1742410662.0               0    False     0.000000   \n",
       "2               52983358  1742410643.0               0    False    81.000000   \n",
       "3               52983358  1742410614.0               0    False   792.092554   \n",
       "4               52983358  1742410591.0               0    False  9855.000000   \n",
       "\n",
       "            updated_at  viral time_of_day  \n",
       "0  2025-03-31 14:54:16  False     evening  \n",
       "1  2025-03-31 14:54:16  False     evening  \n",
       "2  2025-03-31 14:54:16  False     evening  \n",
       "3  2025-03-31 14:54:16   True     evening  \n",
       "4  2025-03-31 14:54:16   True     evening  "
      ]
     },
     "execution_count": 57,
     "metadata": {},
     "output_type": "execute_result"
    }
   ],
   "source": [
    "df.head()"
   ]
  },
  {
   "cell_type": "code",
   "execution_count": 58,
   "id": "4a7e864e-3b05-4258-8913-ffb7cd115b58",
   "metadata": {},
   "outputs": [],
   "source": [
    "# Further reduce the size of the data set - dropping columns that are not useful for modelling \n",
    "columns_to_drop = [\n",
    "    \"name\", \n",
    "    \"created\", \n",
    "    \"updated_at\"\n",
    "]\n",
    "columns_to_drop = [column for column in columns_to_drop if column in df.columns]\n",
    "df.drop(columns_to_drop, axis=1, inplace=True)"
   ]
  },
  {
   "cell_type": "code",
   "execution_count": 59,
   "id": "c38b6dea-0b7f-4996-9be8-544dc5fa550b",
   "metadata": {},
   "outputs": [],
   "source": [
    "# Further reduce the size of the data set - dropping columns that are not useful for modelling \n",
    "columns_to_drop = [\n",
    "    \"name\", \n",
    "    \"created\", \n",
    "    \"updated_at\"\n",
    "]\n",
    "columns_to_drop = [column for column in columns_to_drop if column in validation_df.columns]\n",
    "validation_df.drop(columns_to_drop, axis=1, inplace=True)"
   ]
  },
  {
   "cell_type": "code",
   "execution_count": 60,
   "id": "fb7e1757-0d7c-4df6-a227-84755f443824",
   "metadata": {},
   "outputs": [
    {
     "data": {
      "text/html": [
       "<div>\n",
       "<style scoped>\n",
       "    .dataframe tbody tr th:only-of-type {\n",
       "        vertical-align: middle;\n",
       "    }\n",
       "\n",
       "    .dataframe tbody tr th {\n",
       "        vertical-align: top;\n",
       "    }\n",
       "\n",
       "    .dataframe thead th {\n",
       "        text-align: right;\n",
       "    }\n",
       "</style>\n",
       "<table border=\"1\" class=\"dataframe\">\n",
       "  <thead>\n",
       "    <tr style=\"text-align: right;\">\n",
       "      <th></th>\n",
       "      <th>subreddit</th>\n",
       "      <th>title</th>\n",
       "      <th>upvote_ratio</th>\n",
       "      <th>ups</th>\n",
       "      <th>over_18</th>\n",
       "      <th>num_comments</th>\n",
       "      <th>subreddit_subscribers</th>\n",
       "      <th>created_utc</th>\n",
       "      <th>num_crossposts</th>\n",
       "      <th>is_video</th>\n",
       "      <th>updated_ups</th>\n",
       "      <th>viral</th>\n",
       "      <th>time_of_day</th>\n",
       "    </tr>\n",
       "  </thead>\n",
       "  <tbody>\n",
       "    <tr>\n",
       "      <th>0</th>\n",
       "      <td>pics</td>\n",
       "      <td>48</td>\n",
       "      <td>1.0</td>\n",
       "      <td>1</td>\n",
       "      <td>False</td>\n",
       "      <td>0</td>\n",
       "      <td>31807091</td>\n",
       "      <td>1742410672.0</td>\n",
       "      <td>0</td>\n",
       "      <td>False</td>\n",
       "      <td>162.000000</td>\n",
       "      <td>False</td>\n",
       "      <td>evening</td>\n",
       "    </tr>\n",
       "    <tr>\n",
       "      <th>1</th>\n",
       "      <td>AskReddit</td>\n",
       "      <td>Ex Karen’s, what made you realize you were a K...</td>\n",
       "      <td>1.0</td>\n",
       "      <td>1</td>\n",
       "      <td>False</td>\n",
       "      <td>0</td>\n",
       "      <td>52983358</td>\n",
       "      <td>1742410662.0</td>\n",
       "      <td>0</td>\n",
       "      <td>False</td>\n",
       "      <td>0.000000</td>\n",
       "      <td>False</td>\n",
       "      <td>evening</td>\n",
       "    </tr>\n",
       "    <tr>\n",
       "      <th>2</th>\n",
       "      <td>AskReddit</td>\n",
       "      <td>What’s the worst name you’ve ever heard someon...</td>\n",
       "      <td>1.0</td>\n",
       "      <td>1</td>\n",
       "      <td>False</td>\n",
       "      <td>1</td>\n",
       "      <td>52983358</td>\n",
       "      <td>1742410643.0</td>\n",
       "      <td>0</td>\n",
       "      <td>False</td>\n",
       "      <td>81.000000</td>\n",
       "      <td>False</td>\n",
       "      <td>evening</td>\n",
       "    </tr>\n",
       "    <tr>\n",
       "      <th>3</th>\n",
       "      <td>AskReddit</td>\n",
       "      <td>What was the reason that made you decide to re...</td>\n",
       "      <td>1.0</td>\n",
       "      <td>2</td>\n",
       "      <td>False</td>\n",
       "      <td>0</td>\n",
       "      <td>52983358</td>\n",
       "      <td>1742410614.0</td>\n",
       "      <td>0</td>\n",
       "      <td>False</td>\n",
       "      <td>792.092554</td>\n",
       "      <td>True</td>\n",
       "      <td>evening</td>\n",
       "    </tr>\n",
       "    <tr>\n",
       "      <th>4</th>\n",
       "      <td>AskReddit</td>\n",
       "      <td>What is your city known for ?</td>\n",
       "      <td>1.0</td>\n",
       "      <td>2</td>\n",
       "      <td>False</td>\n",
       "      <td>2</td>\n",
       "      <td>52983358</td>\n",
       "      <td>1742410591.0</td>\n",
       "      <td>0</td>\n",
       "      <td>False</td>\n",
       "      <td>9855.000000</td>\n",
       "      <td>True</td>\n",
       "      <td>evening</td>\n",
       "    </tr>\n",
       "  </tbody>\n",
       "</table>\n",
       "</div>"
      ],
      "text/plain": [
       "   subreddit                                              title  upvote_ratio  \\\n",
       "0       pics                                                 48           1.0   \n",
       "1  AskReddit  Ex Karen’s, what made you realize you were a K...           1.0   \n",
       "2  AskReddit  What’s the worst name you’ve ever heard someon...           1.0   \n",
       "3  AskReddit  What was the reason that made you decide to re...           1.0   \n",
       "4  AskReddit                      What is your city known for ?           1.0   \n",
       "\n",
       "   ups over_18  num_comments  subreddit_subscribers   created_utc  \\\n",
       "0    1   False             0               31807091  1742410672.0   \n",
       "1    1   False             0               52983358  1742410662.0   \n",
       "2    1   False             1               52983358  1742410643.0   \n",
       "3    2   False             0               52983358  1742410614.0   \n",
       "4    2   False             2               52983358  1742410591.0   \n",
       "\n",
       "   num_crossposts is_video  updated_ups  viral time_of_day  \n",
       "0               0    False   162.000000  False     evening  \n",
       "1               0    False     0.000000  False     evening  \n",
       "2               0    False    81.000000  False     evening  \n",
       "3               0    False   792.092554   True     evening  \n",
       "4               0    False  9855.000000   True     evening  "
      ]
     },
     "execution_count": 60,
     "metadata": {},
     "output_type": "execute_result"
    }
   ],
   "source": [
    "df.head()"
   ]
  },
  {
   "cell_type": "code",
   "execution_count": 61,
   "id": "5d8991a9-66d0-4e78-9281-797a2421305e",
   "metadata": {
    "scrolled": true
   },
   "outputs": [],
   "source": [
    "subreddits = df[\"subreddit\"].to_list()\n",
    "subreddits.append(\"other\")"
   ]
  },
  {
   "cell_type": "code",
   "execution_count": 62,
   "id": "c303aedc-f180-4855-b5b2-ba29c26ec001",
   "metadata": {},
   "outputs": [],
   "source": [
    "# Apply LabelEncoder to transform sub-reddit names and time of day \n",
    "le_sub_reddit_names = LabelEncoder().fit(subreddits)"
   ]
  },
  {
   "cell_type": "code",
   "execution_count": 63,
   "id": "c1d8b482-03b3-4b18-be1e-46c4bdec52d4",
   "metadata": {},
   "outputs": [],
   "source": [
    "df[\"subreddit\"] = le_sub_reddit_names.transform(df[\"subreddit\"])"
   ]
  },
  {
   "cell_type": "code",
   "execution_count": 64,
   "id": "5ba5d502-0b36-4782-b1ee-5c5fd8f4a349",
   "metadata": {},
   "outputs": [],
   "source": [
    "subreddits = [x if x in le_sub_reddit_names.classes_ else \"other\" for x in validation_df[\"subreddit\"].to_list()]\n",
    "validation_df[\"subreddit\"] = le_sub_reddit_names.transform(subreddits)"
   ]
  },
  {
   "cell_type": "code",
   "execution_count": 65,
   "id": "62a6d22a-1231-42b3-82ce-b127672e021f",
   "metadata": {},
   "outputs": [],
   "source": [
    "le_time_of_day = LabelEncoder().fit(df[\"time_of_day\"])"
   ]
  },
  {
   "cell_type": "code",
   "execution_count": 66,
   "id": "94697380-04b6-4960-abf4-bdce42a169d2",
   "metadata": {},
   "outputs": [],
   "source": [
    "df[\"time_of_day\"] = le_time_of_day.transform(df[\"time_of_day\"])"
   ]
  },
  {
   "cell_type": "code",
   "execution_count": 67,
   "id": "311f4085-1275-422d-ab74-67fd7ba617e3",
   "metadata": {},
   "outputs": [],
   "source": [
    "validation_df[\"time_of_day\"] = le_time_of_day.transform(validation_df[\"time_of_day\"])"
   ]
  },
  {
   "cell_type": "code",
   "execution_count": 68,
   "id": "64fa5c47-e374-48ed-9ebd-0dc5d165e4cc",
   "metadata": {},
   "outputs": [
    {
     "data": {
      "text/html": [
       "<div>\n",
       "<style scoped>\n",
       "    .dataframe tbody tr th:only-of-type {\n",
       "        vertical-align: middle;\n",
       "    }\n",
       "\n",
       "    .dataframe tbody tr th {\n",
       "        vertical-align: top;\n",
       "    }\n",
       "\n",
       "    .dataframe thead th {\n",
       "        text-align: right;\n",
       "    }\n",
       "</style>\n",
       "<table border=\"1\" class=\"dataframe\">\n",
       "  <thead>\n",
       "    <tr style=\"text-align: right;\">\n",
       "      <th></th>\n",
       "      <th>subreddit</th>\n",
       "      <th>title</th>\n",
       "      <th>upvote_ratio</th>\n",
       "      <th>ups</th>\n",
       "      <th>over_18</th>\n",
       "      <th>num_comments</th>\n",
       "      <th>subreddit_subscribers</th>\n",
       "      <th>created_utc</th>\n",
       "      <th>num_crossposts</th>\n",
       "      <th>is_video</th>\n",
       "      <th>updated_ups</th>\n",
       "      <th>viral</th>\n",
       "      <th>time_of_day</th>\n",
       "    </tr>\n",
       "  </thead>\n",
       "  <tbody>\n",
       "    <tr>\n",
       "      <th>0</th>\n",
       "      <td>37</td>\n",
       "      <td>48</td>\n",
       "      <td>1.0</td>\n",
       "      <td>1</td>\n",
       "      <td>False</td>\n",
       "      <td>0</td>\n",
       "      <td>31807091</td>\n",
       "      <td>1742410672.0</td>\n",
       "      <td>0</td>\n",
       "      <td>False</td>\n",
       "      <td>162.000000</td>\n",
       "      <td>False</td>\n",
       "      <td>1</td>\n",
       "    </tr>\n",
       "    <tr>\n",
       "      <th>1</th>\n",
       "      <td>0</td>\n",
       "      <td>Ex Karen’s, what made you realize you were a K...</td>\n",
       "      <td>1.0</td>\n",
       "      <td>1</td>\n",
       "      <td>False</td>\n",
       "      <td>0</td>\n",
       "      <td>52983358</td>\n",
       "      <td>1742410662.0</td>\n",
       "      <td>0</td>\n",
       "      <td>False</td>\n",
       "      <td>0.000000</td>\n",
       "      <td>False</td>\n",
       "      <td>1</td>\n",
       "    </tr>\n",
       "    <tr>\n",
       "      <th>2</th>\n",
       "      <td>0</td>\n",
       "      <td>What’s the worst name you’ve ever heard someon...</td>\n",
       "      <td>1.0</td>\n",
       "      <td>1</td>\n",
       "      <td>False</td>\n",
       "      <td>1</td>\n",
       "      <td>52983358</td>\n",
       "      <td>1742410643.0</td>\n",
       "      <td>0</td>\n",
       "      <td>False</td>\n",
       "      <td>81.000000</td>\n",
       "      <td>False</td>\n",
       "      <td>1</td>\n",
       "    </tr>\n",
       "    <tr>\n",
       "      <th>3</th>\n",
       "      <td>0</td>\n",
       "      <td>What was the reason that made you decide to re...</td>\n",
       "      <td>1.0</td>\n",
       "      <td>2</td>\n",
       "      <td>False</td>\n",
       "      <td>0</td>\n",
       "      <td>52983358</td>\n",
       "      <td>1742410614.0</td>\n",
       "      <td>0</td>\n",
       "      <td>False</td>\n",
       "      <td>792.092554</td>\n",
       "      <td>True</td>\n",
       "      <td>1</td>\n",
       "    </tr>\n",
       "    <tr>\n",
       "      <th>4</th>\n",
       "      <td>0</td>\n",
       "      <td>What is your city known for ?</td>\n",
       "      <td>1.0</td>\n",
       "      <td>2</td>\n",
       "      <td>False</td>\n",
       "      <td>2</td>\n",
       "      <td>52983358</td>\n",
       "      <td>1742410591.0</td>\n",
       "      <td>0</td>\n",
       "      <td>False</td>\n",
       "      <td>9855.000000</td>\n",
       "      <td>True</td>\n",
       "      <td>1</td>\n",
       "    </tr>\n",
       "  </tbody>\n",
       "</table>\n",
       "</div>"
      ],
      "text/plain": [
       "   subreddit                                              title  upvote_ratio  \\\n",
       "0         37                                                 48           1.0   \n",
       "1          0  Ex Karen’s, what made you realize you were a K...           1.0   \n",
       "2          0  What’s the worst name you’ve ever heard someon...           1.0   \n",
       "3          0  What was the reason that made you decide to re...           1.0   \n",
       "4          0                      What is your city known for ?           1.0   \n",
       "\n",
       "   ups over_18  num_comments  subreddit_subscribers   created_utc  \\\n",
       "0    1   False             0               31807091  1742410672.0   \n",
       "1    1   False             0               52983358  1742410662.0   \n",
       "2    1   False             1               52983358  1742410643.0   \n",
       "3    2   False             0               52983358  1742410614.0   \n",
       "4    2   False             2               52983358  1742410591.0   \n",
       "\n",
       "   num_crossposts is_video  updated_ups  viral  time_of_day  \n",
       "0               0    False   162.000000  False            1  \n",
       "1               0    False     0.000000  False            1  \n",
       "2               0    False    81.000000  False            1  \n",
       "3               0    False   792.092554   True            1  \n",
       "4               0    False  9855.000000   True            1  "
      ]
     },
     "execution_count": 68,
     "metadata": {},
     "output_type": "execute_result"
    }
   ],
   "source": [
    "df.head()"
   ]
  },
  {
   "cell_type": "code",
   "execution_count": 69,
   "id": "21edbedf-488d-4935-8cc2-d73b17d9a072",
   "metadata": {},
   "outputs": [
    {
     "name": "stderr",
     "output_type": "stream",
     "text": [
      "/var/folders/w1/mw0q783s1b5bj1lkrz62mvwr0000gp/T/ipykernel_9937/3475651403.py:3: FutureWarning: Setting an item of incompatible dtype is deprecated and will raise an error in a future version of pandas. Value '1' has dtype incompatible with bool, please explicitly cast to a compatible dtype first.\n",
      "  df.loc[df[\"over_18\"] == True, \"over_18\"] = 1\n"
     ]
    }
   ],
   "source": [
    "# Transform boolean columns to numeric \n",
    "df[\"over_18\"] = df[\"over_18\"].astype(\"bool\")\n",
    "df.loc[df[\"over_18\"] == True, \"over_18\"] = 1\n",
    "df.loc[df[\"over_18\"] == False, \"over_18\"] = 0"
   ]
  },
  {
   "cell_type": "code",
   "execution_count": 70,
   "id": "b7556bf1-c28f-484e-972f-7fb7326d3f83",
   "metadata": {},
   "outputs": [
    {
     "name": "stderr",
     "output_type": "stream",
     "text": [
      "/var/folders/w1/mw0q783s1b5bj1lkrz62mvwr0000gp/T/ipykernel_9937/2534230050.py:3: FutureWarning: Setting an item of incompatible dtype is deprecated and will raise an error in a future version of pandas. Value '1' has dtype incompatible with bool, please explicitly cast to a compatible dtype first.\n",
      "  validation_df.loc[df[\"over_18\"] == True, \"over_18\"] = 1\n"
     ]
    }
   ],
   "source": [
    "# Transform boolean columns to numeric \n",
    "validation_df[\"over_18\"] = validation_df[\"over_18\"].astype(\"bool\")\n",
    "validation_df.loc[df[\"over_18\"] == True, \"over_18\"] = 1\n",
    "validation_df.loc[df[\"over_18\"] == False, \"over_18\"] = 0"
   ]
  },
  {
   "cell_type": "code",
   "execution_count": 71,
   "id": "db0f6e5c-d842-4e3a-a8d0-9ba0b65c1c66",
   "metadata": {},
   "outputs": [
    {
     "name": "stderr",
     "output_type": "stream",
     "text": [
      "/var/folders/w1/mw0q783s1b5bj1lkrz62mvwr0000gp/T/ipykernel_9937/3541727942.py:2: FutureWarning: Setting an item of incompatible dtype is deprecated and will raise an error in a future version of pandas. Value '1' has dtype incompatible with bool, please explicitly cast to a compatible dtype first.\n",
      "  df.loc[df[\"viral\"] == True, \"viral\"] = 1\n"
     ]
    }
   ],
   "source": [
    "df[\"viral\"] = df[\"viral\"].astype(\"bool\")\n",
    "df.loc[df[\"viral\"] == True, \"viral\"] = 1\n",
    "df.loc[df[\"viral\"] == False, \"viral\"] = 0"
   ]
  },
  {
   "cell_type": "code",
   "execution_count": 72,
   "id": "34fa69ab-f30c-43ee-870f-93b61279b86a",
   "metadata": {},
   "outputs": [
    {
     "name": "stderr",
     "output_type": "stream",
     "text": [
      "/var/folders/w1/mw0q783s1b5bj1lkrz62mvwr0000gp/T/ipykernel_9937/4162847272.py:2: FutureWarning: Setting an item of incompatible dtype is deprecated and will raise an error in a future version of pandas. Value '1' has dtype incompatible with bool, please explicitly cast to a compatible dtype first.\n",
      "  validation_df.loc[validation_df[\"viral\"] == True, \"viral\"] = 1\n"
     ]
    }
   ],
   "source": [
    "validation_df[\"viral\"] = validation_df[\"viral\"].astype(\"bool\")\n",
    "validation_df.loc[validation_df[\"viral\"] == True, \"viral\"] = 1\n",
    "validation_df.loc[df[\"viral\"] == False, \"viral\"] = 0"
   ]
  },
  {
   "cell_type": "code",
   "execution_count": 73,
   "id": "7a94f738-d153-455e-b737-dc54384d4cc2",
   "metadata": {},
   "outputs": [
    {
     "name": "stderr",
     "output_type": "stream",
     "text": [
      "/var/folders/w1/mw0q783s1b5bj1lkrz62mvwr0000gp/T/ipykernel_9937/1069456512.py:2: FutureWarning: Setting an item of incompatible dtype is deprecated and will raise an error in a future version of pandas. Value '1' has dtype incompatible with bool, please explicitly cast to a compatible dtype first.\n",
      "  df.loc[df[\"is_video\"] == True, \"is_video\"] = 1\n"
     ]
    }
   ],
   "source": [
    "df[\"is_video\"] = df[\"is_video\"].astype(\"bool\")\n",
    "df.loc[df[\"is_video\"] == True, \"is_video\"] = 1\n",
    "df.loc[df[\"is_video\"] == False, \"is_video\"] = 0"
   ]
  },
  {
   "cell_type": "code",
   "execution_count": 74,
   "id": "09975ae3-df1f-48ca-9b75-cb20ccdb7cef",
   "metadata": {},
   "outputs": [
    {
     "name": "stderr",
     "output_type": "stream",
     "text": [
      "/var/folders/w1/mw0q783s1b5bj1lkrz62mvwr0000gp/T/ipykernel_9937/2293247027.py:2: FutureWarning: Setting an item of incompatible dtype is deprecated and will raise an error in a future version of pandas. Value '1' has dtype incompatible with bool, please explicitly cast to a compatible dtype first.\n",
      "  validation_df.loc[df[\"is_video\"] == True, \"is_video\"] = 1\n"
     ]
    }
   ],
   "source": [
    "validation_df[\"is_video\"] = validation_df[\"is_video\"].astype(\"bool\")\n",
    "validation_df.loc[df[\"is_video\"] == True, \"is_video\"] = 1\n",
    "validation_df.loc[df[\"is_video\"] == False, \"is_video\"] = 0"
   ]
  },
  {
   "cell_type": "code",
   "execution_count": 75,
   "id": "6e581138-9e08-48e7-a6d5-96a997053ab5",
   "metadata": {},
   "outputs": [
    {
     "data": {
      "text/html": [
       "<div>\n",
       "<style scoped>\n",
       "    .dataframe tbody tr th:only-of-type {\n",
       "        vertical-align: middle;\n",
       "    }\n",
       "\n",
       "    .dataframe tbody tr th {\n",
       "        vertical-align: top;\n",
       "    }\n",
       "\n",
       "    .dataframe thead th {\n",
       "        text-align: right;\n",
       "    }\n",
       "</style>\n",
       "<table border=\"1\" class=\"dataframe\">\n",
       "  <thead>\n",
       "    <tr style=\"text-align: right;\">\n",
       "      <th></th>\n",
       "      <th>subreddit</th>\n",
       "      <th>title</th>\n",
       "      <th>upvote_ratio</th>\n",
       "      <th>ups</th>\n",
       "      <th>over_18</th>\n",
       "      <th>num_comments</th>\n",
       "      <th>subreddit_subscribers</th>\n",
       "      <th>created_utc</th>\n",
       "      <th>num_crossposts</th>\n",
       "      <th>is_video</th>\n",
       "      <th>updated_ups</th>\n",
       "      <th>viral</th>\n",
       "      <th>time_of_day</th>\n",
       "    </tr>\n",
       "  </thead>\n",
       "  <tbody>\n",
       "    <tr>\n",
       "      <th>0</th>\n",
       "      <td>37</td>\n",
       "      <td>48</td>\n",
       "      <td>1.0</td>\n",
       "      <td>1</td>\n",
       "      <td>1</td>\n",
       "      <td>0</td>\n",
       "      <td>31807091</td>\n",
       "      <td>1742410672.0</td>\n",
       "      <td>0</td>\n",
       "      <td>1</td>\n",
       "      <td>162.000000</td>\n",
       "      <td>0</td>\n",
       "      <td>1</td>\n",
       "    </tr>\n",
       "    <tr>\n",
       "      <th>1</th>\n",
       "      <td>0</td>\n",
       "      <td>Ex Karen’s, what made you realize you were a K...</td>\n",
       "      <td>1.0</td>\n",
       "      <td>1</td>\n",
       "      <td>1</td>\n",
       "      <td>0</td>\n",
       "      <td>52983358</td>\n",
       "      <td>1742410662.0</td>\n",
       "      <td>0</td>\n",
       "      <td>1</td>\n",
       "      <td>0.000000</td>\n",
       "      <td>0</td>\n",
       "      <td>1</td>\n",
       "    </tr>\n",
       "    <tr>\n",
       "      <th>2</th>\n",
       "      <td>0</td>\n",
       "      <td>What’s the worst name you’ve ever heard someon...</td>\n",
       "      <td>1.0</td>\n",
       "      <td>1</td>\n",
       "      <td>1</td>\n",
       "      <td>1</td>\n",
       "      <td>52983358</td>\n",
       "      <td>1742410643.0</td>\n",
       "      <td>0</td>\n",
       "      <td>1</td>\n",
       "      <td>81.000000</td>\n",
       "      <td>0</td>\n",
       "      <td>1</td>\n",
       "    </tr>\n",
       "    <tr>\n",
       "      <th>3</th>\n",
       "      <td>0</td>\n",
       "      <td>What was the reason that made you decide to re...</td>\n",
       "      <td>1.0</td>\n",
       "      <td>2</td>\n",
       "      <td>1</td>\n",
       "      <td>0</td>\n",
       "      <td>52983358</td>\n",
       "      <td>1742410614.0</td>\n",
       "      <td>0</td>\n",
       "      <td>1</td>\n",
       "      <td>792.092554</td>\n",
       "      <td>1</td>\n",
       "      <td>1</td>\n",
       "    </tr>\n",
       "    <tr>\n",
       "      <th>4</th>\n",
       "      <td>0</td>\n",
       "      <td>What is your city known for ?</td>\n",
       "      <td>1.0</td>\n",
       "      <td>2</td>\n",
       "      <td>1</td>\n",
       "      <td>2</td>\n",
       "      <td>52983358</td>\n",
       "      <td>1742410591.0</td>\n",
       "      <td>0</td>\n",
       "      <td>1</td>\n",
       "      <td>9855.000000</td>\n",
       "      <td>1</td>\n",
       "      <td>1</td>\n",
       "    </tr>\n",
       "  </tbody>\n",
       "</table>\n",
       "</div>"
      ],
      "text/plain": [
       "   subreddit                                              title  upvote_ratio  \\\n",
       "0         37                                                 48           1.0   \n",
       "1          0  Ex Karen’s, what made you realize you were a K...           1.0   \n",
       "2          0  What’s the worst name you’ve ever heard someon...           1.0   \n",
       "3          0  What was the reason that made you decide to re...           1.0   \n",
       "4          0                      What is your city known for ?           1.0   \n",
       "\n",
       "   ups over_18  num_comments  subreddit_subscribers   created_utc  \\\n",
       "0    1       1             0               31807091  1742410672.0   \n",
       "1    1       1             0               52983358  1742410662.0   \n",
       "2    1       1             1               52983358  1742410643.0   \n",
       "3    2       1             0               52983358  1742410614.0   \n",
       "4    2       1             2               52983358  1742410591.0   \n",
       "\n",
       "   num_crossposts is_video  updated_ups viral  time_of_day  \n",
       "0               0        1   162.000000     0            1  \n",
       "1               0        1     0.000000     0            1  \n",
       "2               0        1    81.000000     0            1  \n",
       "3               0        1   792.092554     1            1  \n",
       "4               0        1  9855.000000     1            1  "
      ]
     },
     "execution_count": 75,
     "metadata": {},
     "output_type": "execute_result"
    }
   ],
   "source": [
    "df.head()"
   ]
  },
  {
   "cell_type": "code",
   "execution_count": 76,
   "id": "6ac4bee9-5c63-44d9-ae50-44bf001f014e",
   "metadata": {},
   "outputs": [],
   "source": [
    "def preprocess_title(text):\n",
    "    text = str(text).lower()\n",
    "    text = re.sub(rf\"[{re.escape(string.punctuation)}]\", \"\", text)\n",
    "    tokens = text.split()\n",
    "    tokens = [t for t in tokens if t not in stopwords.words('english')]\n",
    "    lemmatizer = WordNetLemmatizer()\n",
    "    tokens = [lemmatizer.lemmatize(t) for t in tokens]\n",
    "    return \" \".join(tokens)"
   ]
  },
  {
   "cell_type": "code",
   "execution_count": 77,
   "id": "4467a3e1-f7cb-4962-9386-ce77819be83d",
   "metadata": {},
   "outputs": [],
   "source": [
    "df[\"title\"] = df[\"title\"].apply(preprocess_title)"
   ]
  },
  {
   "cell_type": "code",
   "execution_count": 78,
   "id": "83091844-e0b6-43f2-b518-7385a5910d4b",
   "metadata": {},
   "outputs": [],
   "source": [
    "validation_df[\"title\"] = validation_df[\"title\"].apply(preprocess_title)"
   ]
  },
  {
   "cell_type": "code",
   "execution_count": 79,
   "id": "81965f8f-0989-41f6-a5c2-c7ef6b0ef0fe",
   "metadata": {},
   "outputs": [],
   "source": [
    "tfidf = TfidfVectorizer(max_features=200)\n",
    "X_text = tfidf.fit_transform(df['title'])"
   ]
  },
  {
   "cell_type": "code",
   "execution_count": 80,
   "id": "9f168b7f-4b8c-40e8-83aa-a62b32850a84",
   "metadata": {},
   "outputs": [
    {
     "data": {
      "text/plain": [
       "<Compressed Sparse Row sparse matrix of dtype 'float64'\n",
       "\twith 20994 stored elements and shape (9200, 200)>"
      ]
     },
     "execution_count": 80,
     "metadata": {},
     "output_type": "execute_result"
    }
   ],
   "source": [
    "X_text"
   ]
  },
  {
   "cell_type": "code",
   "execution_count": 81,
   "id": "60915299-63bb-4aca-8f47-ae68fccba0a7",
   "metadata": {},
   "outputs": [],
   "source": [
    "X_validation_text = tfidf.fit_transform(validation_df['title'])"
   ]
  },
  {
   "cell_type": "code",
   "execution_count": 82,
   "id": "1ef4e3d4-cd80-4ce9-9ce1-1a43aba38eb8",
   "metadata": {},
   "outputs": [],
   "source": [
    "# Drop the title column now from the original dataframe \n",
    "df.drop(\"title\", axis=1, inplace=True)"
   ]
  },
  {
   "cell_type": "code",
   "execution_count": 83,
   "id": "29574ad4-296f-4c00-8c65-1a4e82d645b3",
   "metadata": {},
   "outputs": [],
   "source": [
    "validation_df.drop(\"title\", axis=1, inplace=True)"
   ]
  },
  {
   "cell_type": "code",
   "execution_count": 84,
   "id": "9e937a75-f1f1-4168-8a54-8ca786c16002",
   "metadata": {},
   "outputs": [
    {
     "data": {
      "text/html": [
       "<div>\n",
       "<style scoped>\n",
       "    .dataframe tbody tr th:only-of-type {\n",
       "        vertical-align: middle;\n",
       "    }\n",
       "\n",
       "    .dataframe tbody tr th {\n",
       "        vertical-align: top;\n",
       "    }\n",
       "\n",
       "    .dataframe thead th {\n",
       "        text-align: right;\n",
       "    }\n",
       "</style>\n",
       "<table border=\"1\" class=\"dataframe\">\n",
       "  <thead>\n",
       "    <tr style=\"text-align: right;\">\n",
       "      <th></th>\n",
       "      <th>subreddit</th>\n",
       "      <th>upvote_ratio</th>\n",
       "      <th>ups</th>\n",
       "      <th>over_18</th>\n",
       "      <th>num_comments</th>\n",
       "      <th>subreddit_subscribers</th>\n",
       "      <th>created_utc</th>\n",
       "      <th>num_crossposts</th>\n",
       "      <th>is_video</th>\n",
       "      <th>updated_ups</th>\n",
       "      <th>viral</th>\n",
       "      <th>time_of_day</th>\n",
       "    </tr>\n",
       "  </thead>\n",
       "  <tbody>\n",
       "    <tr>\n",
       "      <th>0</th>\n",
       "      <td>37</td>\n",
       "      <td>1.0</td>\n",
       "      <td>1</td>\n",
       "      <td>1</td>\n",
       "      <td>0</td>\n",
       "      <td>31807091</td>\n",
       "      <td>1742410672.0</td>\n",
       "      <td>0</td>\n",
       "      <td>1</td>\n",
       "      <td>162.000000</td>\n",
       "      <td>0</td>\n",
       "      <td>1</td>\n",
       "    </tr>\n",
       "    <tr>\n",
       "      <th>1</th>\n",
       "      <td>0</td>\n",
       "      <td>1.0</td>\n",
       "      <td>1</td>\n",
       "      <td>1</td>\n",
       "      <td>0</td>\n",
       "      <td>52983358</td>\n",
       "      <td>1742410662.0</td>\n",
       "      <td>0</td>\n",
       "      <td>1</td>\n",
       "      <td>0.000000</td>\n",
       "      <td>0</td>\n",
       "      <td>1</td>\n",
       "    </tr>\n",
       "    <tr>\n",
       "      <th>2</th>\n",
       "      <td>0</td>\n",
       "      <td>1.0</td>\n",
       "      <td>1</td>\n",
       "      <td>1</td>\n",
       "      <td>1</td>\n",
       "      <td>52983358</td>\n",
       "      <td>1742410643.0</td>\n",
       "      <td>0</td>\n",
       "      <td>1</td>\n",
       "      <td>81.000000</td>\n",
       "      <td>0</td>\n",
       "      <td>1</td>\n",
       "    </tr>\n",
       "    <tr>\n",
       "      <th>3</th>\n",
       "      <td>0</td>\n",
       "      <td>1.0</td>\n",
       "      <td>2</td>\n",
       "      <td>1</td>\n",
       "      <td>0</td>\n",
       "      <td>52983358</td>\n",
       "      <td>1742410614.0</td>\n",
       "      <td>0</td>\n",
       "      <td>1</td>\n",
       "      <td>792.092554</td>\n",
       "      <td>1</td>\n",
       "      <td>1</td>\n",
       "    </tr>\n",
       "    <tr>\n",
       "      <th>4</th>\n",
       "      <td>0</td>\n",
       "      <td>1.0</td>\n",
       "      <td>2</td>\n",
       "      <td>1</td>\n",
       "      <td>2</td>\n",
       "      <td>52983358</td>\n",
       "      <td>1742410591.0</td>\n",
       "      <td>0</td>\n",
       "      <td>1</td>\n",
       "      <td>9855.000000</td>\n",
       "      <td>1</td>\n",
       "      <td>1</td>\n",
       "    </tr>\n",
       "  </tbody>\n",
       "</table>\n",
       "</div>"
      ],
      "text/plain": [
       "   subreddit  upvote_ratio  ups over_18  num_comments  subreddit_subscribers  \\\n",
       "0         37           1.0    1       1             0               31807091   \n",
       "1          0           1.0    1       1             0               52983358   \n",
       "2          0           1.0    1       1             1               52983358   \n",
       "3          0           1.0    2       1             0               52983358   \n",
       "4          0           1.0    2       1             2               52983358   \n",
       "\n",
       "    created_utc  num_crossposts is_video  updated_ups viral  time_of_day  \n",
       "0  1742410672.0               0        1   162.000000     0            1  \n",
       "1  1742410662.0               0        1     0.000000     0            1  \n",
       "2  1742410643.0               0        1    81.000000     0            1  \n",
       "3  1742410614.0               0        1   792.092554     1            1  \n",
       "4  1742410591.0               0        1  9855.000000     1            1  "
      ]
     },
     "execution_count": 84,
     "metadata": {},
     "output_type": "execute_result"
    }
   ],
   "source": [
    "df.head()"
   ]
  },
  {
   "cell_type": "code",
   "execution_count": 85,
   "id": "d52e1868-b432-456c-b5e7-2e29aad8060b",
   "metadata": {},
   "outputs": [],
   "source": [
    "y = df[\"viral\"].to_numpy()"
   ]
  },
  {
   "cell_type": "code",
   "execution_count": 86,
   "id": "5e1ff9b9-ff69-4636-a9c0-cb22f06fe08d",
   "metadata": {},
   "outputs": [],
   "source": [
    "y = np.array(y, dtype=int)"
   ]
  },
  {
   "cell_type": "code",
   "execution_count": 87,
   "id": "9d7140e8-84d3-4178-a4a9-677c0779edfe",
   "metadata": {},
   "outputs": [],
   "source": [
    "y_validation = validation_df[\"viral\"].to_numpy()\n",
    "y_validation = np.array(y_validation, dtype=int)"
   ]
  },
  {
   "cell_type": "code",
   "execution_count": 88,
   "id": "007243ef-5813-4dd9-9058-2641cd859d36",
   "metadata": {},
   "outputs": [],
   "source": [
    "df.drop(\"viral\", axis=1, inplace=True)"
   ]
  },
  {
   "cell_type": "code",
   "execution_count": 89,
   "id": "ea259eae-ed6f-42a6-a801-6a841d8e9275",
   "metadata": {},
   "outputs": [],
   "source": [
    "validation_df.drop(\"viral\", axis=1, inplace=True)"
   ]
  },
  {
   "cell_type": "code",
   "execution_count": 90,
   "id": "6e51d4af-aee1-4643-a9c1-9e724cc7303d",
   "metadata": {},
   "outputs": [],
   "source": [
    "# Scale the dataframe using standard scalar \n",
    "standard_scaler = StandardScaler().fit(df)"
   ]
  },
  {
   "cell_type": "code",
   "execution_count": 91,
   "id": "42b203ab-50db-450f-b379-0a0afa0580e7",
   "metadata": {},
   "outputs": [],
   "source": [
    "X_numeric = standard_scaler.transform(df)"
   ]
  },
  {
   "cell_type": "code",
   "execution_count": 92,
   "id": "a37246ab-d3e3-4dfd-926b-0102306a1a79",
   "metadata": {},
   "outputs": [
    {
     "data": {
      "text/html": [
       "<div>\n",
       "<style scoped>\n",
       "    .dataframe tbody tr th:only-of-type {\n",
       "        vertical-align: middle;\n",
       "    }\n",
       "\n",
       "    .dataframe tbody tr th {\n",
       "        vertical-align: top;\n",
       "    }\n",
       "\n",
       "    .dataframe thead th {\n",
       "        text-align: right;\n",
       "    }\n",
       "</style>\n",
       "<table border=\"1\" class=\"dataframe\">\n",
       "  <thead>\n",
       "    <tr style=\"text-align: right;\">\n",
       "      <th></th>\n",
       "      <th>subreddit</th>\n",
       "      <th>upvote_ratio</th>\n",
       "      <th>ups</th>\n",
       "      <th>over_18</th>\n",
       "      <th>num_comments</th>\n",
       "      <th>subreddit_subscribers</th>\n",
       "      <th>created_utc</th>\n",
       "      <th>num_crossposts</th>\n",
       "      <th>is_video</th>\n",
       "      <th>updated_ups</th>\n",
       "      <th>time_of_day</th>\n",
       "    </tr>\n",
       "  </thead>\n",
       "  <tbody>\n",
       "    <tr>\n",
       "      <th>0</th>\n",
       "      <td>0</td>\n",
       "      <td>0.91</td>\n",
       "      <td>46</td>\n",
       "      <td>1</td>\n",
       "      <td>10396</td>\n",
       "      <td>54135807</td>\n",
       "      <td>1744803485.0</td>\n",
       "      <td>5</td>\n",
       "      <td>1</td>\n",
       "      <td>3575</td>\n",
       "      <td>2</td>\n",
       "    </tr>\n",
       "    <tr>\n",
       "      <th>1</th>\n",
       "      <td>34</td>\n",
       "      <td>0.98</td>\n",
       "      <td>54</td>\n",
       "      <td>1</td>\n",
       "      <td>868</td>\n",
       "      <td>942154</td>\n",
       "      <td>1744822595.0</td>\n",
       "      <td>3</td>\n",
       "      <td>1</td>\n",
       "      <td>15897</td>\n",
       "      <td>1</td>\n",
       "    </tr>\n",
       "    <tr>\n",
       "      <th>2</th>\n",
       "      <td>34</td>\n",
       "      <td>0.93</td>\n",
       "      <td>37</td>\n",
       "      <td>1</td>\n",
       "      <td>9810</td>\n",
       "      <td>36189</td>\n",
       "      <td>1744773491.0</td>\n",
       "      <td>0</td>\n",
       "      <td>1</td>\n",
       "      <td>17352</td>\n",
       "      <td>3</td>\n",
       "    </tr>\n",
       "    <tr>\n",
       "      <th>3</th>\n",
       "      <td>37</td>\n",
       "      <td>0.95</td>\n",
       "      <td>5</td>\n",
       "      <td>1</td>\n",
       "      <td>15</td>\n",
       "      <td>32183739</td>\n",
       "      <td>1744819004.0</td>\n",
       "      <td>2</td>\n",
       "      <td>1</td>\n",
       "      <td>25025</td>\n",
       "      <td>0</td>\n",
       "    </tr>\n",
       "    <tr>\n",
       "      <th>4</th>\n",
       "      <td>25</td>\n",
       "      <td>0.93</td>\n",
       "      <td>46</td>\n",
       "      <td>1</td>\n",
       "      <td>4429</td>\n",
       "      <td>46372784</td>\n",
       "      <td>1744799801.0</td>\n",
       "      <td>2</td>\n",
       "      <td>1</td>\n",
       "      <td>21462</td>\n",
       "      <td>2</td>\n",
       "    </tr>\n",
       "  </tbody>\n",
       "</table>\n",
       "</div>"
      ],
      "text/plain": [
       "   subreddit  upvote_ratio  ups over_18  num_comments  subreddit_subscribers  \\\n",
       "0          0          0.91   46       1         10396               54135807   \n",
       "1         34          0.98   54       1           868                 942154   \n",
       "2         34          0.93   37       1          9810                  36189   \n",
       "3         37          0.95    5       1            15               32183739   \n",
       "4         25          0.93   46       1          4429               46372784   \n",
       "\n",
       "    created_utc  num_crossposts is_video  updated_ups  time_of_day  \n",
       "0  1744803485.0               5        1         3575            2  \n",
       "1  1744822595.0               3        1        15897            1  \n",
       "2  1744773491.0               0        1        17352            3  \n",
       "3  1744819004.0               2        1        25025            0  \n",
       "4  1744799801.0               2        1        21462            2  "
      ]
     },
     "execution_count": 92,
     "metadata": {},
     "output_type": "execute_result"
    }
   ],
   "source": [
    "validation_df.head()"
   ]
  },
  {
   "cell_type": "code",
   "execution_count": 93,
   "id": "5cdf48a0-d414-48a1-83d0-a2dc0951dbde",
   "metadata": {},
   "outputs": [],
   "source": [
    "validation_df = standard_scaler.transform(validation_df)"
   ]
  },
  {
   "cell_type": "code",
   "execution_count": 94,
   "id": "f8709a44-e494-43a4-a2a6-a4703a47aedc",
   "metadata": {},
   "outputs": [],
   "source": [
    "X = hstack([X_numeric, X_text])\n",
    "X = X.toarray()"
   ]
  },
  {
   "cell_type": "code",
   "execution_count": 95,
   "id": "6188d4b3-6e89-47a3-8839-8ea69e1fcbab",
   "metadata": {},
   "outputs": [],
   "source": [
    "X_validation = hstack([validation_df, X_validation_text])\n",
    "X_validation = X_validation.toarray()"
   ]
  },
  {
   "cell_type": "code",
   "execution_count": 96,
   "id": "77476efe-2998-4a45-8625-c14e721ef783",
   "metadata": {},
   "outputs": [],
   "source": [
    "X[np.isnan(X)] = 1e-8"
   ]
  },
  {
   "cell_type": "code",
   "execution_count": 97,
   "id": "1696357a-abf4-4ea5-9ca9-53c5018dd225",
   "metadata": {},
   "outputs": [],
   "source": [
    "X_validation[np.isnan(X_validation)] = 1e-8"
   ]
  },
  {
   "cell_type": "code",
   "execution_count": 98,
   "id": "b85fd92f-6020-451d-bda2-9187cbb62eeb",
   "metadata": {},
   "outputs": [
    {
     "data": {
      "text/plain": [
       "(200, 211)"
      ]
     },
     "execution_count": 98,
     "metadata": {},
     "output_type": "execute_result"
    }
   ],
   "source": [
    "X_validation.shape"
   ]
  },
  {
   "cell_type": "code",
   "execution_count": 99,
   "id": "a994ea22-d688-4e6d-b47b-5dbdc58db1b9",
   "metadata": {},
   "outputs": [
    {
     "data": {
      "text/plain": [
       "(9200, 211)"
      ]
     },
     "execution_count": 99,
     "metadata": {},
     "output_type": "execute_result"
    }
   ],
   "source": [
    "X.shape"
   ]
  },
  {
   "cell_type": "code",
   "execution_count": 100,
   "id": "e948cf7b-e25b-4ae6-bd1a-c95e384564ac",
   "metadata": {},
   "outputs": [],
   "source": [
    "X_train, X_test, y_train, y_test = train_test_split(X, y, test_size=0.2, random_state=42)"
   ]
  },
  {
   "cell_type": "code",
   "execution_count": 101,
   "id": "f25c3aa2-0874-4f28-8520-ea6605f92a42",
   "metadata": {},
   "outputs": [
    {
     "data": {
      "text/plain": [
       "(np.float64(-3.3074101354490493),\n",
       " np.float64(39.28559276233986),\n",
       " np.int64(0),\n",
       " np.int64(1))"
      ]
     },
     "execution_count": 101,
     "metadata": {},
     "output_type": "execute_result"
    }
   ],
   "source": [
    "np.min(X), np.max(X), np.min(y), np.max(y)"
   ]
  },
  {
   "cell_type": "code",
   "execution_count": 102,
   "id": "8ff9efe6-84ba-4c6e-97db-b1b0ec26041c",
   "metadata": {},
   "outputs": [
    {
     "name": "stdout",
     "output_type": "stream",
     "text": [
      "🔹 Logistic Regression:\n",
      "              precision    recall  f1-score   support\n",
      "\n",
      "           0       0.81      0.98      0.89       917\n",
      "           1       0.97      0.78      0.86       923\n",
      "\n",
      "    accuracy                           0.88      1840\n",
      "   macro avg       0.89      0.88      0.87      1840\n",
      "weighted avg       0.89      0.88      0.87      1840\n",
      "\n",
      "Accuracy: 0.8755434782608695\n"
     ]
    },
    {
     "name": "stderr",
     "output_type": "stream",
     "text": [
      "/Users/saileshrajaputra/development/venv/lib/python3.11/site-packages/sklearn/linear_model/_linear_loss.py:200: RuntimeWarning: divide by zero encountered in matmul\n",
      "  raw_prediction = X @ weights + intercept\n",
      "/Users/saileshrajaputra/development/venv/lib/python3.11/site-packages/sklearn/linear_model/_linear_loss.py:200: RuntimeWarning: overflow encountered in matmul\n",
      "  raw_prediction = X @ weights + intercept\n",
      "/Users/saileshrajaputra/development/venv/lib/python3.11/site-packages/sklearn/linear_model/_linear_loss.py:200: RuntimeWarning: invalid value encountered in matmul\n",
      "  raw_prediction = X @ weights + intercept\n",
      "/Users/saileshrajaputra/development/venv/lib/python3.11/site-packages/sklearn/linear_model/_linear_loss.py:330: RuntimeWarning: divide by zero encountered in matmul\n",
      "  grad[:n_features] = X.T @ grad_pointwise + l2_reg_strength * weights\n",
      "/Users/saileshrajaputra/development/venv/lib/python3.11/site-packages/sklearn/linear_model/_linear_loss.py:330: RuntimeWarning: overflow encountered in matmul\n",
      "  grad[:n_features] = X.T @ grad_pointwise + l2_reg_strength * weights\n",
      "/Users/saileshrajaputra/development/venv/lib/python3.11/site-packages/sklearn/linear_model/_linear_loss.py:330: RuntimeWarning: invalid value encountered in matmul\n",
      "  grad[:n_features] = X.T @ grad_pointwise + l2_reg_strength * weights\n",
      "/Users/saileshrajaputra/development/venv/lib/python3.11/site-packages/sklearn/utils/extmath.py:203: RuntimeWarning: divide by zero encountered in matmul\n",
      "  ret = a @ b\n",
      "/Users/saileshrajaputra/development/venv/lib/python3.11/site-packages/sklearn/utils/extmath.py:203: RuntimeWarning: overflow encountered in matmul\n",
      "  ret = a @ b\n",
      "/Users/saileshrajaputra/development/venv/lib/python3.11/site-packages/sklearn/utils/extmath.py:203: RuntimeWarning: invalid value encountered in matmul\n",
      "  ret = a @ b\n"
     ]
    }
   ],
   "source": [
    "# --- Logistic Regression ---\n",
    "lr = LogisticRegression(max_iter=1000, class_weight=\"balanced\")\n",
    "lr.fit(X_train, y_train)\n",
    "y_pred_lr = lr.predict(X_test)\n",
    "\n",
    "print(\"🔹 Logistic Regression:\")\n",
    "print(classification_report(y_test, y_pred_lr))\n",
    "print(\"Accuracy:\", accuracy_score(y_test, y_pred_lr))"
   ]
  },
  {
   "cell_type": "code",
   "execution_count": 103,
   "id": "1edfff97-9286-4ce3-96b8-187e9a06192f",
   "metadata": {},
   "outputs": [
    {
     "name": "stdout",
     "output_type": "stream",
     "text": [
      "\n",
      "🔸 XGBoost:\n",
      "              precision    recall  f1-score   support\n",
      "\n",
      "           0       1.00      1.00      1.00       917\n",
      "           1       1.00      1.00      1.00       923\n",
      "\n",
      "    accuracy                           1.00      1840\n",
      "   macro avg       1.00      1.00      1.00      1840\n",
      "weighted avg       1.00      1.00      1.00      1840\n",
      "\n",
      "Accuracy: 0.9989130434782608\n"
     ]
    }
   ],
   "source": [
    "xgb = XGBClassifier(eval_metric='logloss')\n",
    "xgb.fit(X_train, y_train)\n",
    "y_pred_xgb = xgb.predict(X_test)\n",
    "\n",
    "print(\"\\n🔸 XGBoost:\")\n",
    "print(classification_report(y_test, y_pred_xgb))\n",
    "print(\"Accuracy:\", accuracy_score(y_test, y_pred_xgb))"
   ]
  },
  {
   "cell_type": "code",
   "execution_count": 104,
   "id": "dc69c0a3-ed05-41ca-ba1c-a6f2f2eab84f",
   "metadata": {},
   "outputs": [],
   "source": [
    "# Validation metrics"
   ]
  },
  {
   "cell_type": "code",
   "execution_count": 105,
   "id": "1c705b89-2af8-4f26-8c3b-81b7e6d32f2d",
   "metadata": {},
   "outputs": [
    {
     "name": "stdout",
     "output_type": "stream",
     "text": [
      "🔹 Logistic Regression:\n",
      "              precision    recall  f1-score   support\n",
      "\n",
      "           0       0.86      0.59      0.70       152\n",
      "           1       0.34      0.69      0.46        48\n",
      "\n",
      "    accuracy                           0.61       200\n",
      "   macro avg       0.60      0.64      0.58       200\n",
      "weighted avg       0.73      0.61      0.64       200\n",
      "\n",
      "Accuracy: 0.61\n"
     ]
    },
    {
     "name": "stderr",
     "output_type": "stream",
     "text": [
      "/Users/saileshrajaputra/development/venv/lib/python3.11/site-packages/sklearn/utils/extmath.py:203: RuntimeWarning: divide by zero encountered in matmul\n",
      "  ret = a @ b\n",
      "/Users/saileshrajaputra/development/venv/lib/python3.11/site-packages/sklearn/utils/extmath.py:203: RuntimeWarning: overflow encountered in matmul\n",
      "  ret = a @ b\n",
      "/Users/saileshrajaputra/development/venv/lib/python3.11/site-packages/sklearn/utils/extmath.py:203: RuntimeWarning: invalid value encountered in matmul\n",
      "  ret = a @ b\n"
     ]
    }
   ],
   "source": [
    "y_pred_lr = lr.predict(X_validation)\n",
    "\n",
    "print(\"🔹 Logistic Regression:\")\n",
    "print(classification_report(y_validation, y_pred_lr))\n",
    "print(\"Accuracy:\", accuracy_score(y_validation, y_pred_lr))"
   ]
  },
  {
   "cell_type": "code",
   "execution_count": 107,
   "id": "def82639-c718-4bff-a2ee-8c23699c7902",
   "metadata": {},
   "outputs": [
    {
     "name": "stdout",
     "output_type": "stream",
     "text": [
      "\n",
      "🔸 XGBoost:\n",
      "              precision    recall  f1-score   support\n",
      "\n",
      "           0       1.00      0.66      0.79       152\n",
      "           1       0.48      1.00      0.65        48\n",
      "\n",
      "    accuracy                           0.74       200\n",
      "   macro avg       0.74      0.83      0.72       200\n",
      "weighted avg       0.88      0.74      0.76       200\n",
      "\n",
      "Accuracy: 0.74\n"
     ]
    }
   ],
   "source": [
    "y_pred_xgb = xgb.predict(X_validation)\n",
    "\n",
    "print(\"\\n🔸 XGBoost:\")\n",
    "print(classification_report(y_validation, y_pred_xgb))\n",
    "print(\"Accuracy:\", accuracy_score(y_validation, y_pred_xgb))"
   ]
  },
  {
   "cell_type": "code",
   "execution_count": null,
   "id": "a5bb4935-1af6-403f-b1a9-7472b10a36f1",
   "metadata": {},
   "outputs": [],
   "source": []
  }
 ],
 "metadata": {
  "kernelspec": {
   "display_name": "Python 3 (ipykernel)",
   "language": "python",
   "name": "python3"
  },
  "language_info": {
   "codemirror_mode": {
    "name": "ipython",
    "version": 3
   },
   "file_extension": ".py",
   "mimetype": "text/x-python",
   "name": "python",
   "nbconvert_exporter": "python",
   "pygments_lexer": "ipython3",
   "version": "3.11.6"
  }
 },
 "nbformat": 4,
 "nbformat_minor": 5
}
